{
 "cells": [
  {
   "cell_type": "code",
   "execution_count": 1,
   "metadata": {},
   "outputs": [],
   "source": [
    "# https://www.hackerrank.com/challenges/python-arithmetic-operators/problem\n",
    "\n",
    "# Task \n",
    "# Read two integers from STDIN and print three lines where:\n",
    "\n",
    "# The first line contains the sum of the two numbers.\n",
    "# The second line contains the difference of the two numbers (first - second).\n",
    "# The third line contains the product of the two numbers.\n",
    "# Input Format\n",
    "\n",
    "# The first line contains the first integer, . The second line contains the second integer, .\n",
    "\n",
    "# Constraints\n",
    "# 1 <= a <= 10^10\n",
    "# 1 <= b <= 10^10\n",
    "\n",
    "# Output Format\n",
    "# Print the three lines as explained above.\n",
    "\n",
    "# Sample Input 0\n",
    "# 3\n",
    "# 2\n",
    "# Sample Output 0\n",
    "# 5\n",
    "# 1\n",
    "# 6\n",
    "# Explanation 0\n",
    "# 3 + 2 = 5\n",
    "# 3 - 2 = 1\n",
    "# 3 * 2 = 6"
   ]
  },
  {
   "cell_type": "code",
   "execution_count": 3,
   "metadata": {},
   "outputs": [],
   "source": [
    "def arith_op(a,b):\n",
    "    add_op = a + b\n",
    "    sub_op = a - b\n",
    "    mult_op = a * b\n",
    "    print(add_op)\n",
    "    print(sub_op)\n",
    "    print(mult_op)\n",
    "    return"
   ]
  },
  {
   "cell_type": "code",
   "execution_count": 4,
   "metadata": {},
   "outputs": [
    {
     "name": "stdout",
     "output_type": "stream",
     "text": [
      "3\n",
      "-1\n",
      "2\n"
     ]
    }
   ],
   "source": [
    "a = 1\n",
    "b = 2\n",
    "\n",
    "arith_op(a,b)"
   ]
  },
  {
   "cell_type": "code",
   "execution_count": null,
   "metadata": {},
   "outputs": [],
   "source": [
    "# Submission answer\n",
    "if __name__ == '__main__':\n",
    "    a = int(input())\n",
    "    b = int(input())\n",
    "\n",
    "def arith_op(a,b):\n",
    "    add_op = a + b\n",
    "    sub_op = a - b\n",
    "    mult_op = a * b\n",
    "    print(add_op)\n",
    "    print(sub_op)\n",
    "    print(mult_op)\n",
    "    return\n",
    "\n",
    "arith_op(a,b)"
   ]
  },
  {
   "cell_type": "code",
   "execution_count": null,
   "metadata": {},
   "outputs": [],
   "source": []
  }
 ],
 "metadata": {
  "kernelspec": {
   "display_name": "Python 3",
   "language": "python",
   "name": "python3"
  },
  "language_info": {
   "codemirror_mode": {
    "name": "ipython",
    "version": 3
   },
   "file_extension": ".py",
   "mimetype": "text/x-python",
   "name": "python",
   "nbconvert_exporter": "python",
   "pygments_lexer": "ipython3",
   "version": "3.7.1"
  }
 },
 "nbformat": 4,
 "nbformat_minor": 2
}
