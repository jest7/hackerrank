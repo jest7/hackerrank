{
 "cells": [
  {
   "cell_type": "code",
   "execution_count": null,
   "metadata": {},
   "outputs": [],
   "source": [
    "# https://www.hackerrank.com/challenges/nested-list/problem\n",
    "\n",
    "# Given the names and grades for each student in a Physics class of N students, store them in a nested list and print the name(s) of any student(s) having the second lowest grade.\n",
    "\n",
    "# Note: If there are multiple students with the same grade, order their names alphabetically and print each name on a new line.\n",
    "\n",
    "# Input Format\n",
    "\n",
    "# The first line contains an integer, N, the number of students. \n",
    "# The 2N subsequent lines describe each student over 2 lines; the first line contains a student's name, and the second line contains their grade.\n",
    "\n",
    "# Constraints\n",
    "2 <= N <= 5\n",
    "\n",
    "# There will always be one or more students having the second lowest grade.\n",
    "\n",
    "# Output Format\n",
    "# Print the name(s) of any student(s) having the second lowest grade in Physics; if there are multiple students, order their names alphabetically and print each one on a new line.\n",
    "\n",
    "# Sample Input 0\n",
    "# 5\n",
    "# Harry\n",
    "# 37.21\n",
    "# Berry\n",
    "# 37.21\n",
    "# Tina\n",
    "# 37.2\n",
    "# Akriti\n",
    "# 41\n",
    "# Harsh\n",
    "# 39\n",
    "# Sample Output 0\n",
    "# Berry\n",
    "# Harry\n",
    "\n",
    "# Explanation 0\n",
    "\n",
    "# There are 5 students in this class whose names and grades are assembled to build the following list:\n",
    "\n",
    "# python students = [['Harry', 37.21], ['Berry', 37.21], ['Tina', 37.2], ['Akriti', 41], ['Harsh', 39]]\n",
    "\n",
    "# The lowest grade of 37.2 belongs to Tina. The second lowest grade of 37.21 belongs to both Harry and Berry, so we order their names alphabetically and print each name on a new line."
   ]
  },
  {
   "cell_type": "code",
   "execution_count": 2,
   "metadata": {},
   "outputs": [
    {
     "name": "stdout",
     "output_type": "stream",
     "text": [
      "[['Harry', 37.21], ['Berry', 37.21], ['Tina', 37.2], ['Akriti', 41], ['Harsh', 39]]\n",
      "['Harry', 37.21]\n",
      "['Berry', 37.21]\n",
      "['Harsh', 39]\n"
     ]
    }
   ],
   "source": [
    "students = [['Harry', 37.21], ['Berry', 37.21], ['Tina', 37.2], ['Akriti', 41], ['Harsh', 39]]\n",
    "# The first thing I'm looking at is how to call elements from nested lists\n",
    "# For regular lists, it's just denoting the element you want in brackets\n",
    "print(students)\n",
    "print(students[0])\n",
    "print(students[1])\n",
    "print(students[-1])\n"
   ]
  },
  {
   "cell_type": "code",
   "execution_count": 3,
   "metadata": {},
   "outputs": [
    {
     "name": "stdout",
     "output_type": "stream",
     "text": [
      "[['Harry', 37.21], ['Berry', 37.21], ['Tina', 37.2], ['Akriti', 41], ['Harsh', 39]]\n",
      "Harry\n",
      "37.21\n",
      "39\n"
     ]
    }
   ],
   "source": [
    "# For calling an element of a nested list, you can just append a second bracket\n",
    "print(students)\n",
    "print(students[0][0])\n",
    "print(students[1][1])\n",
    "print(students[-1][-1])\n"
   ]
  },
  {
   "cell_type": "code",
   "execution_count": 14,
   "metadata": {},
   "outputs": [
    {
     "data": {
      "text/plain": [
       "[37.21, 37.21, 37.2, 41, 39]"
      ]
     },
     "execution_count": 14,
     "metadata": {},
     "output_type": "execute_result"
    }
   ],
   "source": [
    "# For this problem, I'm going to take the approach of parsing out all of the \n",
    "# scores for each student and storing this as a set.  Then I'll cycle\n",
    "# through each of the elements in the nested list and pull names of users\n",
    "# with that second lowest score\n",
    "\n",
    "n = 5\n",
    "students = [['Harry', 37.21], ['Berry', 37.21], ['Tina', 37.2], ['Akriti', 41], ['Harsh', 39]]\n",
    "\n",
    "score_list = [] #1\n",
    "for score in range(n): #2\n",
    "    score_list.append(students[score][-1]) #3\n",
    "\n",
    "score_list #4\n",
    "\n",
    "# 1) This establishes an empty list\n",
    "# 2) This creates the loop.  score here is just a variable, we can name it anything\n",
    "# and range(n) is because we know the number of elements because it's passed as\n",
    "# an input during the start of the program\n",
    "# 3) This appends to our empty list the score from each student combination\n",
    "# in the list.  the first [score] is to select the element from the list and\n",
    "# the second [-1] is to pick the last element of the first element since it's\n",
    "# a list of lists\n",
    "# 4) just outputs the score_list after running through the loop"
   ]
  },
  {
   "cell_type": "code",
   "execution_count": 17,
   "metadata": {},
   "outputs": [
    {
     "name": "stdout",
     "output_type": "stream",
     "text": [
      "[37.2, 37.21, 39, 41]\n",
      "37.21\n"
     ]
    }
   ],
   "source": [
    "# Now that we're able to pull a list of the scores, it's time to dedupe the\n",
    "# the list and select the second lowest.  We can use set() and sorted() here\n",
    "# for doing this.  Remember that set() isn't a list, so we need to set() then \n",
    "# list() again before sorted()\n",
    "\n",
    "n = 5\n",
    "students = [['Harry', 37.21], ['Berry', 37.21], ['Tina', 37.2], ['Akriti', 41], ['Harsh', 39]]\n",
    "\n",
    "score_list = []\n",
    "for score in range(n):\n",
    "    score_list.append(students[score][-1])\n",
    "\n",
    "score_list = sorted(list(set(score_list)))\n",
    "\n",
    "print(score_list)\n",
    "print(score_list[1])"
   ]
  },
  {
   "cell_type": "code",
   "execution_count": 35,
   "metadata": {},
   "outputs": [
    {
     "name": "stdout",
     "output_type": "stream",
     "text": [
      "['Harry', 'Berry']\n",
      "Berry\n",
      "Harry\n"
     ]
    }
   ],
   "source": [
    "# Now we have a list of scores, we know the second lowest value of the list, so\n",
    "# we can cycle through the list of students again and determine if they match\n",
    "# the second lowest score\n",
    "\n",
    "n = 5\n",
    "students = [['Harry', 37.21], ['Berry', 37.21], ['Tina', 37.2], ['Akriti', 41], ['Harsh', 39]]\n",
    "\n",
    "score_list = []\n",
    "for score in range(n):\n",
    "    score_list.append(students[score][-1])\n",
    "\n",
    "second_lowest = sorted(list(set(score_list)))[1]\n",
    "\n",
    "student_list = []\n",
    "for x in range(n):\n",
    "    if students[x][-1] == second_lowest:\n",
    "        student_list.append(students[x][0])\n",
    "\n",
    "print(student_list)\n",
    "print('\\n'.join(sorted(student_list))) #1\n",
    "# 1) This print format joins the list and splits each value by a new line. \n",
    "# Remember, student_list is a list so it'll output everything on one line as\n",
    "# a list.  We need each element to be printed on a separate line, and sorted\n",
    "# alphabetically."
   ]
  },
  {
   "cell_type": "code",
   "execution_count": null,
   "metadata": {},
   "outputs": [],
   "source": [
    "# Submission Code\n",
    "# This actually failed 3 out of 10 test cases\n",
    "\n",
    "if __name__ == '__main__':\n",
    "    students = []\n",
    "    for n in range(int(input())):\n",
    "        name = input()\n",
    "        score = float(input())        \n",
    "        students.append([name, score])\n",
    "\n",
    "score_list = []\n",
    "for score in range(n):\n",
    "    score_list.append(students[score][-1])\n",
    "\n",
    "second_lowest = sorted(list(set(score_list)))[1]\n",
    "\n",
    "student_list = []\n",
    "for x in range(n):\n",
    "    if students[x][-1] == second_lowest:\n",
    "        student_list.append(students[x][0])\n",
    "\n",
    "print('\\n'.join(sorted(student_list)))"
   ]
  },
  {
   "cell_type": "code",
   "execution_count": null,
   "metadata": {},
   "outputs": [],
   "source": [
    "# After failing 3 out of 10 test cases, I did some research on the discussion\n",
    "# board.  It's easy to just copy/paste the most voted for solution but since\n",
    "# this is all for my learning, I actually tend to look for a solution that\n",
    "# I can understand and work through it.  Here's one example\n",
    "\n",
    "if __name__ == '__main__':\n",
    "    students = []\n",
    "    scores = set() #1\n",
    "    for n in range(int(input())):\n",
    "        name = input()\n",
    "        score = float(input())        \n",
    "        students.append([name, score])\n",
    "        scores.add(score) #2\n",
    "\n",
    "second_lowest = sorted(list(scores))[1] #3\n",
    "\n",
    "student_list = []\n",
    "for name, score in students: #4\n",
    "    if score == second_lowest:\n",
    "        student_list.append(name)\n",
    "        \n",
    "print('\\n'.join(sorted(student_list)))\n",
    "\n",
    "# 1) This establishes the set of scores earlier than my previous iteration\n",
    "# 2) as we cycle through inputs, the scores are automatically added to the set.\n",
    "# Because sets are unique, appending each dedupes as it goes along.\n",
    "# 3) This sorts the list again and selects the second lowest scores but is\n",
    "# more efficient than the last option since the set is created as the inputs\n",
    "# come in\n",
    "# 4)  This modifies the way that we pull each of the scores and is a bit \n",
    "# more consistent as it specifies the fields rather than using indexing like\n",
    "# the previous option.  It still functionally is the same by checking for the\n",
    "# score match, and then adding the name if they should match"
   ]
  }
 ],
 "metadata": {
  "kernelspec": {
   "display_name": "Python 3",
   "language": "python",
   "name": "python3"
  },
  "language_info": {
   "codemirror_mode": {
    "name": "ipython",
    "version": 3
   },
   "file_extension": ".py",
   "mimetype": "text/x-python",
   "name": "python",
   "nbconvert_exporter": "python",
   "pygments_lexer": "ipython3",
   "version": "3.7.1"
  }
 },
 "nbformat": 4,
 "nbformat_minor": 2
}
