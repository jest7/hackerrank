{
 "cells": [
  {
   "cell_type": "code",
   "execution_count": null,
   "metadata": {},
   "outputs": [],
   "source": [
    "# https://www.hackerrank.com/challenges/designer-door-mat/problem\n",
    "    \n",
    "# Mr. Vincent works in a door mat manufacturing company. One day, he designed a new door mat with the following specifications:\n",
    "\n",
    "# Mat size must be N x M. (N is an odd natural number, and M is 3 times N.)\n",
    "# The design should have 'WELCOME' written in the center.\n",
    "# The design pattern should only use |, . and - characters.\n",
    "# Sample Designs\n",
    "\n",
    "#     Size: 7 x 21 \n",
    "#     ---------.|.---------\n",
    "#     ------.|..|..|.------\n",
    "#     ---.|..|..|..|..|.---\n",
    "#     -------WELCOME-------\n",
    "#     ---.|..|..|..|..|.---\n",
    "#     ------.|..|..|.------\n",
    "#     ---------.|.---------\n",
    "    \n",
    "#     Size: 11 x 33\n",
    "#     ---------------.|.---------------\n",
    "#     ------------.|..|..|.------------\n",
    "#     ---------.|..|..|..|..|.---------\n",
    "#     ------.|..|..|..|..|..|..|.------\n",
    "#     ---.|..|..|..|..|..|..|..|..|.---\n",
    "#     -------------WELCOME-------------\n",
    "#     ---.|..|..|..|..|..|..|..|..|.---\n",
    "#     ------.|..|..|..|..|..|..|.------\n",
    "#     ---------.|..|..|..|..|.---------\n",
    "#     ------------.|..|..|.------------\n",
    "#     ---------------.|.---------------\n",
    "# Input Format\n",
    "\n",
    "# A single line containing the space separated values of N and M.\n",
    "\n",
    "# Constraints\n",
    "# 5 < N < 101\n",
    "# 15 < M < 303\n",
    "\n",
    "# Output Format\n",
    "\n",
    "# Output the design pattern.\n",
    "\n",
    "# Sample Input\n",
    "\n",
    "# 9 27\n",
    "# Sample Output\n",
    "\n",
    "# ------------.|.------------\n",
    "# ---------.|..|..|.---------\n",
    "# ------.|..|..|..|..|.------\n",
    "# ---.|..|..|..|..|..|..|.---\n",
    "# ----------WELCOME----------\n",
    "# ---.|..|..|..|..|..|..|.---\n",
    "# ------.|..|..|..|..|.------\n",
    "# ---------.|..|..|.---------\n",
    "# ------------.|.------------"
   ]
  },
  {
   "cell_type": "code",
   "execution_count": 3,
   "metadata": {},
   "outputs": [
    {
     "name": "stdout",
     "output_type": "stream",
     "text": [
      "9 27\n",
      "------------.|.------------\n",
      "---------.|..|..|.---------\n",
      "------.|..|..|..|..|.------\n",
      "---.|..|..|..|..|..|..|.---\n",
      "----------WELCOME----------\n",
      "---.|..|..|..|..|..|..|.---\n",
      "------.|..|..|..|..|.------\n",
      "---------.|..|..|.---------\n",
      "------------.|.------------\n"
     ]
    }
   ],
   "source": [
    "# I actually ended up looking at the discussion for this one.  \n",
    "N, M = map(int,input().split())\n",
    "for i in range(1,N,2): # 1\n",
    "    print((i * \".|.\").center(M, \"-\"))\n",
    "print(\"WELCOME\".center(M,\"-\")) # 2\n",
    "for i in range(N-2,-1,-2): # 3\n",
    "    print((i * \".|.\").center(M, \"-\"))\n",
    "    \n",
    "# 1)  This line generates the top portion of the output image.  The range()\n",
    "# function has the inputs of start, stop, and step.  In this solution we start\n",
    "# at 1, go to N (9) and step by every 2.This value controls the number of \".|.\"\n",
    "# that's printed each line.  So for the first row, it's just one, second row\n",
    "# is three, third row is 5, fourth row is 7, then nothing because 9 is past N\n",
    "# (reminder that N doesn't include the value since it's ordinal)\n",
    "# 2) This just prints the Welcome row\n",
    "# 3)  This is similar to 1.  THe first row is printed with 7 of \".|.\" (9-2=7)\n",
    "# followed by 5 (step of -2, 7-2=5), 3 (5-2), 1 (3-2=1), then it hits the limit\n",
    "# of -1 and doesn't print anything."
   ]
  },
  {
   "cell_type": "code",
   "execution_count": null,
   "metadata": {},
   "outputs": [],
   "source": []
  }
 ],
 "metadata": {
  "kernelspec": {
   "display_name": "Python 3",
   "language": "python",
   "name": "python3"
  },
  "language_info": {
   "codemirror_mode": {
    "name": "ipython",
    "version": 3
   },
   "file_extension": ".py",
   "mimetype": "text/x-python",
   "name": "python",
   "nbconvert_exporter": "python",
   "pygments_lexer": "ipython3",
   "version": "3.7.1"
  }
 },
 "nbformat": 4,
 "nbformat_minor": 2
}
