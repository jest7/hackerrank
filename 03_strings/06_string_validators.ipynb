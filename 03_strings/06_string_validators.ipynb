{
 "cells": [
  {
   "cell_type": "code",
   "execution_count": null,
   "metadata": {},
   "outputs": [],
   "source": [
    "# https://www.hackerrank.com/challenges/string-validators/problem\n",
    "    \n",
    "# Python has built-in string validation methods for basic data. It can check if a string is composed of alphabetical characters, alphanumeric characters, digits, etc.\n",
    "\n",
    "# str.isalnum() \n",
    "# This method checks if all the characters of a string are alphanumeric (a-z, A-Z and 0-9).\n",
    "\n",
    "# >>> print 'ab123'.isalnum()\n",
    "# True\n",
    "# >>> print 'ab123#'.isalnum()\n",
    "# False\n",
    "# str.isalpha() \n",
    "# This method checks if all the characters of a string are alphabetical (a-z and A-Z).\n",
    "\n",
    "# >>> print 'abcD'.isalpha()\n",
    "# True\n",
    "# >>> print 'abcd1'.isalpha()\n",
    "# False\n",
    "# str.isdigit() \n",
    "# This method checks if all the characters of a string are digits (0-9).\n",
    "\n",
    "# >>> print '1234'.isdigit()\n",
    "# True\n",
    "# >>> print '123edsd'.isdigit()\n",
    "# False\n",
    "# str.islower() \n",
    "# This method checks if all the characters of a string are lowercase characters (a-z).\n",
    "\n",
    "# >>> print 'abcd123#'.islower()\n",
    "# True\n",
    "# >>> print 'Abcd123#'.islower()\n",
    "# False\n",
    "# str.isupper() \n",
    "# This method checks if all the characters of a string are uppercase characters (A-Z).\n",
    "\n",
    "# >>> print 'ABCD123#'.isupper()\n",
    "# True\n",
    "# >>> print 'Abcd123#'.isupper()\n",
    "# False\n",
    "\n",
    "# Task\n",
    "\n",
    "# You are given a string S. \n",
    "# Your task is to find out if the string S contains: alphanumeric characters, alphabetical characters, digits, lowercase and uppercase characters.\n",
    "\n",
    "# Input Format\n",
    "\n",
    "# A single line containing a string S.\n",
    "\n",
    "# Constraints\n",
    "# 0 < len(S) < 1000\n",
    "\n",
    "# Output Format\n",
    "\n",
    "# In the first line, print True if S has any alphanumeric characters. Otherwise, print False. \n",
    "# In the second line, print True if S has any alphabetical characters. Otherwise, print False. \n",
    "# In the third line, print True if S has any digits. Otherwise, print False. \n",
    "# In the fourth line, print True if S has any lowercase characters. Otherwise, print False. \n",
    "# In the fifth line, print True if S has any uppercase characters. Otherwise, print False.\n",
    "\n",
    "# Sample Input\n",
    "\n",
    "# qA2\n",
    "# Sample Output\n",
    "\n",
    "# True\n",
    "# True\n",
    "# True\n",
    "# True\n",
    "# True"
   ]
  },
  {
   "cell_type": "code",
   "execution_count": 15,
   "metadata": {},
   "outputs": [
    {
     "name": "stdout",
     "output_type": "stream",
     "text": [
      "abcde.\n",
      "True\n",
      "True\n",
      "False\n",
      "True\n",
      "False\n"
     ]
    }
   ],
   "source": [
    "# The functions specified return true only if all characters in the string\n",
    "# satisfy the criteria.  The question asks if any of the characters satisfy\n",
    "# the criteria so we actually need to reevaluate each character\n",
    "\n",
    "# isalnum()\n",
    "# isalpha()\n",
    "# isdigit()\n",
    "# islower()\n",
    "# isupper()\n",
    "\n",
    "if __name__ == '__main__':\n",
    "    s = input()\n",
    "    \n",
    "    print(any([x.isalnum() for x in s]))\n",
    "    print(any([x.isalpha() for x in s]))\n",
    "    print(any([x.isdigit() for x in s]))\n",
    "    print(any([x.islower() for x in s]))\n",
    "    print(any([x.isupper() for x in s]))"
   ]
  },
  {
   "cell_type": "code",
   "execution_count": null,
   "metadata": {},
   "outputs": [],
   "source": []
  },
  {
   "cell_type": "code",
   "execution_count": null,
   "metadata": {},
   "outputs": [],
   "source": []
  }
 ],
 "metadata": {
  "kernelspec": {
   "display_name": "Python 3",
   "language": "python",
   "name": "python3"
  },
  "language_info": {
   "codemirror_mode": {
    "name": "ipython",
    "version": 3
   },
   "file_extension": ".py",
   "mimetype": "text/x-python",
   "name": "python",
   "nbconvert_exporter": "python",
   "pygments_lexer": "ipython3",
   "version": "3.7.1"
  }
 },
 "nbformat": 4,
 "nbformat_minor": 2
}
