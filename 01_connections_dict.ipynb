{
 "cells": [
  {
   "cell_type": "code",
   "execution_count": 45,
   "metadata": {},
   "outputs": [
    {
     "data": {
      "text/plain": [
       "[['alpha', 'bravo'],\n",
       " ['alpha', 'charlie'],\n",
       " ['bravo', 'delta'],\n",
       " ['bravo', 'alpha'],\n",
       " ['bravo', 'echo'],\n",
       " ['charlie', 'alpha'],\n",
       " ['charlie', 'delta'],\n",
       " ['delta', 'bravo'],\n",
       " ['delta', 'charlie'],\n",
       " ['echo', 'bravo'],\n",
       " ['foxtrot']]"
      ]
     },
     "execution_count": 45,
     "metadata": {},
     "output_type": "execute_result"
    }
   ],
   "source": [
    "# I was recently asked a problem that I found interesting.  The flavor of it doesn't matter much, but the general problem is:\n",
    "# In a given list of lists of pairings, determine how many partners each node has.  The input string is below:\n",
    "\n",
    "src_data = [['alpha', 'bravo'], ['alpha', 'charlie'], ['bravo', 'delta'], \n",
    "            ['bravo', 'alpha'], ['bravo', 'echo'], ['charlie', 'alpha'], \n",
    "            ['charlie', 'delta'], ['delta', 'bravo'], ['delta', 'charlie'], \n",
    "            ['echo', 'bravo'], ['foxtrot']]\n",
    "\n",
    "# This string is illustrated as:\n",
    "\n",
    "# A - B - E\n",
    "# |   |\n",
    "# C - D   F\n",
    "src_data\n",
    "\n",
    "# The output of the analysis should be a dictionary of each term and the unique\n",
    "# counts of counter parties that they are related to, e.g.:\n",
    "# {'alpha':2, 'bravo':3, 'charlie':2, 'delta':2, 'echo': 1, 'foxtrot':0}"
   ]
  },
  {
   "cell_type": "code",
   "execution_count": 46,
   "metadata": {},
   "outputs": [
    {
     "name": "stdout",
     "output_type": "stream",
     "text": [
      "{'foxtrot': 0}\n"
     ]
    }
   ],
   "source": [
    "# Looking at the source data, we have an assumptions we can make..\n",
    "# 1) each sublist will be length 2 to represent the pairings, if it's not then\n",
    "# that means the element is set alone (i.e., foxtrot above)\n",
    "\n",
    "output_dict = {}\n",
    "for i in src_data:\n",
    "    if len(i) < 2:\n",
    "        output_dict.update({i[0]: 0})\n",
    "print(output_dict)"
   ]
  },
  {
   "cell_type": "code",
   "execution_count": 97,
   "metadata": {},
   "outputs": [
    {
     "name": "stdout",
     "output_type": "stream",
     "text": [
      "{'alpha': 2, 'bravo': 3, 'charlie': 2, 'delta': 2, 'echo': 1, 'foxtrot': 0}\n"
     ]
    }
   ],
   "source": [
    "# now that we have the anomaly taken care of, we can focus on solving the main item which is \n",
    "# counting the number of unique partners for every value.  The general thought process is:\n",
    "# 1) If it's the first time the element is seen, add it to a dictionary and the value is a list of\n",
    "# the corresponding element\n",
    "# 2) If the first element is found in the dictionary, append its corresponding value to the list\n",
    "\n",
    "output_dict = {}\n",
    "tmp_dict = {}\n",
    "for i in src_data:\n",
    "    if len(i) < 2:\n",
    "        output_dict.update({i[0]: 0})\n",
    "    if len(i) == 2: \n",
    "        if i[0] not in tmp_dict:\n",
    "            tmp_dict.update({i[0]: [(i[1])]})\n",
    "            output_dict.update({i[0]: len(tmp_dict[i[0]])})\n",
    "        if i[0] in tmp_dict:\n",
    "            tmp_set = set(tmp_dict.get(i[0]))\n",
    "            tmp_set.add(i[1])\n",
    "            tmp_dict.update({i[0]: list(tmp_set)})\n",
    "            output_dict.update({i[0]: len(tmp_dict[i[0]])})\n",
    "print(output_dict)"
   ]
  },
  {
   "cell_type": "code",
   "execution_count": null,
   "metadata": {},
   "outputs": [],
   "source": []
  },
  {
   "cell_type": "code",
   "execution_count": null,
   "metadata": {},
   "outputs": [],
   "source": []
  }
 ],
 "metadata": {
  "kernelspec": {
   "display_name": "Python 3",
   "language": "python",
   "name": "python3"
  },
  "language_info": {
   "codemirror_mode": {
    "name": "ipython",
    "version": 3
   },
   "file_extension": ".py",
   "mimetype": "text/x-python",
   "name": "python",
   "nbconvert_exporter": "python",
   "pygments_lexer": "ipython3",
   "version": "3.7.1"
  }
 },
 "nbformat": 4,
 "nbformat_minor": 2
}
