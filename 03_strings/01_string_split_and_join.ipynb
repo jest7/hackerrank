{
 "cells": [
  {
   "cell_type": "code",
   "execution_count": null,
   "metadata": {},
   "outputs": [],
   "source": [
    "# https://www.hackerrank.com/challenges/python-string-split-and-join/problem\n",
    "\n",
    "# In Python, a string can be split on a delimiter.\n",
    "\n",
    "# Example:\n",
    "\n",
    "# >>> a = \"this is a string\"\n",
    "# >>> a = a.split(\" \") # a is converted to a list of strings. \n",
    "# >>> print a\n",
    "# ['this', 'is', 'a', 'string']\n",
    "# Joining a string is simple:\n",
    "\n",
    "# >>> a = \"-\".join(a)\n",
    "# >>> print a\n",
    "# this-is-a-string \n",
    "# Task \n",
    "# You are given a string. Split the string on a \" \" (space) delimiter and join using a - hyphen.\n",
    "\n",
    "# Input Format \n",
    "# The first line contains a string consisting of space separated words.\n",
    "\n",
    "# Output Format \n",
    "# Print the formatted string as explained above.\n",
    "\n",
    "# Sample Input\n",
    "\n",
    "# this is a string   \n",
    "# Sample Output\n",
    "\n",
    "# this-is-a-string"
   ]
  },
  {
   "cell_type": "code",
   "execution_count": 1,
   "metadata": {},
   "outputs": [
    {
     "name": "stdout",
     "output_type": "stream",
     "text": [
      "this is a sample string\n",
      "['this', 'is', 'a', 'sample', 'string']\n"
     ]
    }
   ],
   "source": [
    "sample_string = \"this is a sample string\"\n",
    "\n",
    "# Splitting a string is just using split() with your chosen delimiter\n",
    "split_string = sample_string.split(\" \")\n",
    "\n",
    "print(sample_string)\n",
    "print(split_string)"
   ]
  },
  {
   "cell_type": "code",
   "execution_count": 3,
   "metadata": {},
   "outputs": [
    {
     "name": "stdout",
     "output_type": "stream",
     "text": [
      "this-is-a-sample-string\n"
     ]
    }
   ],
   "source": [
    "# String joins use the .join() function with a delimiter\n",
    "\n",
    "join_string = \"-\".join(split_string) # 1\n",
    "\n",
    "print(join_string)\n",
    "\n",
    "# 1) you declare the joining text first, then .join() with the list you want\n",
    "# to use.  This is the converse of the split() function where the input comes\n",
    "# first and the connector second"
   ]
  },
  {
   "cell_type": "code",
   "execution_count": 6,
   "metadata": {},
   "outputs": [
    {
     "name": "stdout",
     "output_type": "stream",
     "text": [
      "this-is-a-sample-string\n"
     ]
    }
   ],
   "source": [
    "# Now we'll create a function for doing this\n",
    "\n",
    "def split_and_join(sample_string):\n",
    "    split_string = sample_string.split(\" \")\n",
    "    join_string = \"-\".join(split_string)\n",
    "    return join_string\n",
    "\n",
    "print(split_and_join(sample_string))"
   ]
  },
  {
   "cell_type": "code",
   "execution_count": null,
   "metadata": {},
   "outputs": [],
   "source": [
    "# Submission Code\n",
    "def split_and_join(line):\n",
    "    split_string = line.split(\" \")\n",
    "    join_string = \"-\".join(split_string)\n",
    "    return join_string\n",
    "\n",
    "if __name__ == '__main__':\n",
    "    line = input()\n",
    "    result = split_and_join(line)\n",
    "    print(result)"
   ]
  }
 ],
 "metadata": {
  "kernelspec": {
   "display_name": "Python 3",
   "language": "python",
   "name": "python3"
  },
  "language_info": {
   "codemirror_mode": {
    "name": "ipython",
    "version": 3
   },
   "file_extension": ".py",
   "mimetype": "text/x-python",
   "name": "python",
   "nbconvert_exporter": "python",
   "pygments_lexer": "ipython3",
   "version": "3.7.1"
  }
 },
 "nbformat": 4,
 "nbformat_minor": 2
}
