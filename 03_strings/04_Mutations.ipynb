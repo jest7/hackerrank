{
 "cells": [
  {
   "cell_type": "code",
   "execution_count": null,
   "metadata": {},
   "outputs": [],
   "source": [
    "https://www.hackerrank.com/challenges/python-mutations/problem\n",
    "    \n",
    "# We have seen that lists are mutable (they can be changed), and tuples are immutable (they cannot be changed).\n",
    "\n",
    "# Let's try to understand this with an example.\n",
    "\n",
    "# You are given an immutable string, and you want to make changes to it.\n",
    "\n",
    "# Example\n",
    "\n",
    "# >>> string = \"abracadabra\"\n",
    "# You can access an index by:\n",
    "\n",
    "# >>> print string[5]\n",
    "# a\n",
    "# What if you would like to assign a value?\n",
    "\n",
    "# >>> string[5] = 'k' \n",
    "# Traceback (most recent call last):\n",
    "#   File \"<stdin>\", line 1, in <module>\n",
    "# TypeError: 'str' object does not support item assignment\n",
    "# How would you approach this?\n",
    "\n",
    "# One solution is to convert the string to a list and then change the value.\n",
    "# Example\n",
    "\n",
    "# >>> string = \"abracadabra\"\n",
    "# >>> l = list(string)\n",
    "# >>> l[5] = 'k'\n",
    "# >>> string = ''.join(l)\n",
    "# >>> print string\n",
    "# abrackdabra\n",
    "# Another approach is to slice the string and join it back.\n",
    "# Example\n",
    "\n",
    "# >>> string = string[:5] + \"k\" + string[6:]\n",
    "# >>> print string\n",
    "# abrackdabra\n",
    "# Task \n",
    "# Read a given string, change the character at a given index and then print the modified string.\n",
    "\n",
    "# Input Format \n",
    "# The first line contains a string, S. \n",
    "# The next line contains an integer i, denoting the index location and a character C separated by a space.\n",
    "\n",
    "# Output Format \n",
    "# Using any of the methods explained above, replace the character at index i with character c.\n",
    "\n",
    "# Sample Input\n",
    "\n",
    "# abracadabra\n",
    "# 5 k\n",
    "# Sample Output\n",
    "\n",
    "# abrackdabra"
   ]
  },
  {
   "cell_type": "code",
   "execution_count": 64,
   "metadata": {},
   "outputs": [
    {
     "name": "stdout",
     "output_type": "stream",
     "text": [
      "abracadabra\n",
      "5 k\n",
      "abrackdabra\n"
     ]
    }
   ],
   "source": [
    "# Submission code\n",
    "def mutate_string(string, position, character):\n",
    "    list_input = list(string)\n",
    "    list_input[position] = character\n",
    "    return ''.join(list_input)\n",
    "\n",
    "if __name__ == '__main__':\n",
    "    s = input()\n",
    "    i, c = input().split()\n",
    "    s_new = mutate_string(s, int(i), c)\n",
    "    print(s_new)"
   ]
  },
  {
   "cell_type": "code",
   "execution_count": null,
   "metadata": {},
   "outputs": [],
   "source": []
  }
 ],
 "metadata": {
  "kernelspec": {
   "display_name": "Python 3",
   "language": "python",
   "name": "python3"
  },
  "language_info": {
   "codemirror_mode": {
    "name": "ipython",
    "version": 3
   },
   "file_extension": ".py",
   "mimetype": "text/x-python",
   "name": "python",
   "nbconvert_exporter": "python",
   "pygments_lexer": "ipython3",
   "version": "3.7.1"
  }
 },
 "nbformat": 4,
 "nbformat_minor": 2
}
