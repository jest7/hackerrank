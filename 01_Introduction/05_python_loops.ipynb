{
 "cells": [
  {
   "cell_type": "code",
   "execution_count": null,
   "metadata": {},
   "outputs": [],
   "source": [
    "# https://www.hackerrank.com/challenges/python-loops/problem\n",
    "\n",
    "# Task \n",
    "# Read an integer N. For all non-negative integers i < N, print i^2. See the sample for details.\n",
    "\n",
    "# Input Format\n",
    "\n",
    "# The first and only line contains the integer, N.\n",
    "\n",
    "# Constraints\n",
    "# 1 <= N <= 20\n",
    "\n",
    "# Output Format\n",
    "\n",
    "# Print N lines, one corresponding to each i.\n",
    "\n",
    "# Sample Input 0\n",
    "# 5\n",
    "# Sample Output 0\n",
    "# 0\n",
    "# 1\n",
    "# 4\n",
    "# 9\n",
    "# 16"
   ]
  },
  {
   "cell_type": "code",
   "execution_count": 16,
   "metadata": {},
   "outputs": [
    {
     "name": "stdout",
     "output_type": "stream",
     "text": [
      "range(1, 20)\n",
      "[1, 2, 3, 4, 5, 6, 7, 8, 9, 10, 11, 12, 13, 14, 15, 16, 17, 18, 19]\n"
     ]
    }
   ],
   "source": [
    "# Since we know that the input value has to be between 1 and 20, we can create a list of all these values.\n",
    "# This list can then be compared to N and we can determine which values need to be output\n",
    "\n",
    "pop_list = list(range(1,20))\n",
    "# Notes:  range() will return the values between the first and last value specified but this isn't a list datatype.\n",
    "# list() will convert the output of range() to a list() format\n",
    "\n",
    "print(pop_list)"
   ]
  },
  {
   "cell_type": "code",
   "execution_count": 19,
   "metadata": {},
   "outputs": [
    {
     "name": "stdout",
     "output_type": "stream",
     "text": [
      "[1, 2, 3, 4, 5, 6, 7, 8, 9, 10, 11, 12, 13, 14, 15, 16, 17, 18, 19, 20]\n"
     ]
    }
   ],
   "source": [
    "# range() numbers also are based on position value, not the actual values returned.  list(range(1,20)) is actually items 1 - 20\n",
    "# which correspond to values 1 - 19.  0 is the first value by default and the 20th value in the increment sequence would\n",
    "# actually be '19'.  To adjust this, our list actually needs to be range(1,21) since we care more about the actual values\n",
    "\n",
    "pop_list = list(range(1,21))\n",
    "print(pop_list)"
   ]
  },
  {
   "cell_type": "code",
   "execution_count": 31,
   "metadata": {},
   "outputs": [
    {
     "name": "stdout",
     "output_type": "stream",
     "text": [
      "[0, 1, 2, 3, 4]\n"
     ]
    }
   ],
   "source": [
    "# Going one step further, we actually know that N will be our upper limit so instead of creating a list that goes from 1 - 20\n",
    "# we can create a list that goes from 1 - N.  We won't have to worry about incrementing 1 more item since the conditions are\n",
    "# i < N.\n",
    "# It's also important to note that i can be value 0, N's minimum value will be 1.  Because of this, we'll actually remove the\n",
    "# starting value from the range so it begins at 0\n",
    "\n",
    "n = 5 # example value\n",
    "pop_list = list(range(n))\n",
    "print(pop_list)"
   ]
  },
  {
   "cell_type": "code",
   "execution_count": 34,
   "metadata": {},
   "outputs": [
    {
     "name": "stdout",
     "output_type": "stream",
     "text": [
      "0\n",
      "1\n",
      "4\n",
      "9\n",
      "16\n"
     ]
    }
   ],
   "source": [
    "# Now that pop_list contains all values, we can actually just iterate in a for loop to produce the squared value of all items\n",
    "# in the list\n",
    "\n",
    "for i in pop_list:\n",
    "    sqv = i**2\n",
    "    print(sqv)\n"
   ]
  },
  {
   "cell_type": "code",
   "execution_count": 35,
   "metadata": {},
   "outputs": [
    {
     "name": "stdout",
     "output_type": "stream",
     "text": [
      "0\n",
      "1\n",
      "4\n",
      "9\n",
      "16\n"
     ]
    }
   ],
   "source": [
    "# We can actually collapse the previous functions.  Instead of:\n",
    "\n",
    "n = 5\n",
    "pop_list = list(range(n))\n",
    "for i in pop_list:\n",
    "    sqv = i**2\n",
    "    print(sqv)\n",
    "\n",
    "# We can collapse into the following\n",
    "n = 5\n",
    "for i in list(range(n)):\n",
    "    sqv = i**2\n",
    "    print(sqv)\n",
    "\n",
    "# This just takes away having to store the list in a variable."
   ]
  },
  {
   "cell_type": "code",
   "execution_count": null,
   "metadata": {},
   "outputs": [],
   "source": [
    "# Submission answer\n",
    "if __name__ == '__main__':\n",
    "    n = int(input())\n",
    "\n",
    "for i in list(range(n)):\n",
    "    sqv = i**2\n",
    "    print(sqv)\n"
   ]
  }
 ],
 "metadata": {
  "kernelspec": {
   "display_name": "Python 3",
   "language": "python",
   "name": "python3"
  },
  "language_info": {
   "codemirror_mode": {
    "name": "ipython",
    "version": 3
   },
   "file_extension": ".py",
   "mimetype": "text/x-python",
   "name": "python",
   "nbconvert_exporter": "python",
   "pygments_lexer": "ipython3",
   "version": "3.7.1"
  }
 },
 "nbformat": 4,
 "nbformat_minor": 2
}
