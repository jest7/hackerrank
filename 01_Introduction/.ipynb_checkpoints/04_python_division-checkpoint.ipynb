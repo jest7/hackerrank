{
 "cells": [
  {
   "cell_type": "code",
   "execution_count": null,
   "metadata": {},
   "outputs": [],
   "source": [
    "# https://www.hackerrank.com/challenges/python-division/problem\n",
    "\n",
    "# Task \n",
    "# Read two integers and print two lines. The first line should contain integer division, a // b. \n",
    "# The second line should contain float division, a / b.\n",
    "\n",
    "# You don't need to perform any rounding or formatting operations.\n",
    "\n",
    "# Input Format\n",
    "\n",
    "# The first line contains the first integer, a. The second line contains the second integer, b.\n",
    "\n",
    "# Output Format\n",
    "# Print the two lines as described above.\n",
    "\n",
    "# Sample Input 0\n",
    "# 4\n",
    "# 3\n",
    "# Sample Output 0\n",
    "# 1\n",
    "# 1.33333333333"
   ]
  },
  {
   "cell_type": "code",
   "execution_count": 1,
   "metadata": {},
   "outputs": [],
   "source": [
    "# Start off with creating another function\n",
    "def div_op(a,b):\n",
    "    int_div = a // b\n",
    "    float_div = a / b\n",
    "    print(int_div)\n",
    "    print(float_div)\n",
    "    return"
   ]
  },
  {
   "cell_type": "code",
   "execution_count": 2,
   "metadata": {},
   "outputs": [
    {
     "name": "stdout",
     "output_type": "stream",
     "text": [
      "1\n",
      "1.3333333333333333\n"
     ]
    }
   ],
   "source": [
    "# pass initial values for variables and then call function\n",
    "a = 4\n",
    "b = 3\n",
    "\n",
    "div_op(a, b)"
   ]
  },
  {
   "cell_type": "code",
   "execution_count": null,
   "metadata": {},
   "outputs": [],
   "source": [
    "# Submission answers\n",
    "if __name__ == '__main__':\n",
    "    a = int(input())\n",
    "    b = int(input())\n",
    "\n",
    "def div_op(a,b):\n",
    "    int_div = a // b\n",
    "    float_div = a / b\n",
    "    print(int_div)\n",
    "    print(float_div)\n",
    "    return\n",
    "\n",
    "div_op(a,b)"
   ]
  }
 ],
 "metadata": {
  "kernelspec": {
   "display_name": "Python 3",
   "language": "python",
   "name": "python3"
  },
  "language_info": {
   "codemirror_mode": {
    "name": "ipython",
    "version": 3
   },
   "file_extension": ".py",
   "mimetype": "text/x-python",
   "name": "python",
   "nbconvert_exporter": "python",
   "pygments_lexer": "ipython3",
   "version": "3.7.1"
  }
 },
 "nbformat": 4,
 "nbformat_minor": 2
}
