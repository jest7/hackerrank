{
 "cells": [
  {
   "cell_type": "code",
   "execution_count": null,
   "metadata": {},
   "outputs": [],
   "source": [
    "# https://www.hackerrank.com/challenges/finding-the-percentage/problem\n",
    "\n",
    "# You have a record of N students. Each record contains the student's name, and their percent marks in Maths, Physics and Chemistry. The marks can be floating values. The user enters some integer N followed by the names and marks for N students. You are required to save the record in a dictionary data type. The user then enters a student's name. Output the average percentage marks obtained by that student, correct to two decimal places.\n",
    "\n",
    "# Input Format\n",
    "\n",
    "# The first line contains the integer N, the number of students. The next N lines contains the name and marks obtained by that student separated by a space. The final line contains the name of a particular student previously listed.\n",
    "\n",
    "# Constraints\n",
    "# 2 <= N <= 10\n",
    "# 0 <= Marks <= 100\n",
    "\n",
    "# Output Format\n",
    "\n",
    "# Print one line: The average of the marks obtained by the particular student correct to 2 decimal places.\n",
    "\n",
    "# Sample Input 0\n",
    "\n",
    "# 3\n",
    "# Krishna 67 68 69\n",
    "# Arjun 70 98 63\n",
    "# Malika 52 56 60\n",
    "# Malika\n",
    "# Sample Output 0\n",
    "\n",
    "# 56.00\n",
    "# Explanation 0\n",
    "\n",
    "# Marks for Malika are {52, 56, 60} whose average is 56 \n",
    "\n",
    "# Sample Input 1\n",
    "\n",
    "# 2\n",
    "# Harsh 25 26.5 28\n",
    "# Anurag 26 28 30\n",
    "# Harsh\n",
    "# Sample Output 1\n",
    "\n",
    "# 26.50"
   ]
  },
  {
   "cell_type": "code",
   "execution_count": 3,
   "metadata": {},
   "outputs": [
    {
     "name": "stdout",
     "output_type": "stream",
     "text": [
      "3\n",
      "Krishna 67 68 69\n",
      "Arjun 70 98 63\n",
      "Malika 52 56 60\n",
      "Malika\n",
      "Malika\n",
      "[52.0, 56.0, 60.0]\n",
      "{'Krishna': [67.0, 68.0, 69.0], 'Arjun': [70.0, 98.0, 63.0], 'Malika': [52.0, 56.0, 60.0]}\n",
      "Malika\n"
     ]
    }
   ],
   "source": [
    "# This problem seems rather difficult compared to the previously assigned ones.\n",
    "# Breaking this down into a few parts.. \n",
    "# 1) We need to perform a check to see if the requested name is a part of the\n",
    "# dictionary\n",
    "# 2)  It doesn't specify how many input scores will be coming, the \n",
    "# examples each have 3 scores per name but we don't know that'll persist\n",
    "# so we need to make sure the division is dynamic ((n1 + n2 + ni) / i)\n",
    "# 3)  The output has to be rounded to 2 decimals\n",
    "\n",
    "if __name__ == '__main__':\n",
    "    n = int(input())\n",
    "    student_marks = {}\n",
    "    for _ in range(n):\n",
    "        name, *line = input().split()\n",
    "        scores = list(map(float, line))\n",
    "        student_marks[name] = scores\n",
    "    query_name = input()\n",
    "\n",
    "print(name)\n",
    "print(scores)\n",
    "print(student_marks)\n",
    "print(query_name)"
   ]
  },
  {
   "cell_type": "code",
   "execution_count": 12,
   "metadata": {},
   "outputs": [
    {
     "name": "stdout",
     "output_type": "stream",
     "text": [
      "[52.0, 56.0, 60.0]\n"
     ]
    }
   ],
   "source": [
    "# Let's start by returning the current scores from the dict based on the\n",
    "# query_name\n",
    "\n",
    "if query_name in student_marks:\n",
    "    print(student_marks[query_name])"
   ]
  },
  {
   "cell_type": "code",
   "execution_count": 15,
   "metadata": {},
   "outputs": [
    {
     "name": "stdout",
     "output_type": "stream",
     "text": [
      "Sum -  168.0\n",
      "Len -  3\n",
      "Average -  56.0\n"
     ]
    }
   ],
   "source": [
    "# For determining the average, there isn't an avg() function that can iterate\n",
    "# over a list.  We can however do this through the use of sum() and len()\n",
    "\n",
    "print(\"Sum - \", sum(student_marks[query_name]))\n",
    "print(\"Len - \", len(student_marks[query_name]))\n",
    "print(\"Average - \", sum(student_marks[query_name]) / len(student_marks[query_name]))"
   ]
  },
  {
   "cell_type": "code",
   "execution_count": 21,
   "metadata": {},
   "outputs": [
    {
     "name": "stdout",
     "output_type": "stream",
     "text": [
      "56.00\n"
     ]
    }
   ],
   "source": [
    "# For determining the average, let's write a function to do that.\n",
    "\n",
    "def avgScore(scores_list):\n",
    "    avgscore = sum(scores_list) / len(scores_list)\n",
    "    return avgscore\n",
    "\n",
    "results = avgScore(student_marks[query_name])\n",
    "print(\"{:0.2f}\".format(results)) #1\n",
    "\n",
    "# 1) This format sets the precision to 2 decimals\n",
    "# More details here:  https://pyformat.info/"
   ]
  },
  {
   "cell_type": "code",
   "execution_count": 22,
   "metadata": {},
   "outputs": [
    {
     "name": "stdout",
     "output_type": "stream",
     "text": [
      "56.00\n"
     ]
    }
   ],
   "source": [
    "# Now that we have the check and the function that returns the avg, we can\n",
    "# combine the two for the answer.\n",
    "\n",
    "def avgScore(scores_list):\n",
    "    avgscore = sum(scores_list) / len(scores_list)\n",
    "    return avgscore\n",
    "\n",
    "if query_name in student_marks:\n",
    "    results = avgScore(student_marks[query_name])\n",
    "    print(\"{:0.2f}\".format(results))"
   ]
  },
  {
   "cell_type": "code",
   "execution_count": null,
   "metadata": {},
   "outputs": [],
   "source": [
    "# Submission Code\n",
    "if __name__ == '__main__':\n",
    "    n = int(input())\n",
    "    student_marks = {}\n",
    "    for _ in range(n):\n",
    "        name, *line = input().split()\n",
    "        scores = list(map(float, line))\n",
    "        student_marks[name] = scores\n",
    "    query_name = input()\n",
    "\n",
    "def avgScore(scores_list):\n",
    "    avgscore = sum(scores_list) / len(scores_list)\n",
    "    return avgscore\n",
    "\n",
    "if query_name in student_marks:\n",
    "    results = avgScore(student_marks[query_name])\n",
    "    print(\"{:0.2f}\".format(results))"
   ]
  }
 ],
 "metadata": {
  "kernelspec": {
   "display_name": "Python 3",
   "language": "python",
   "name": "python3"
  },
  "language_info": {
   "codemirror_mode": {
    "name": "ipython",
    "version": 3
   },
   "file_extension": ".py",
   "mimetype": "text/x-python",
   "name": "python",
   "nbconvert_exporter": "python",
   "pygments_lexer": "ipython3",
   "version": "3.7.1"
  }
 },
 "nbformat": 4,
 "nbformat_minor": 2
}
