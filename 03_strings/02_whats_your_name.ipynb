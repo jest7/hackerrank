{
 "cells": [
  {
   "cell_type": "code",
   "execution_count": null,
   "metadata": {},
   "outputs": [],
   "source": [
    "# https://www.hackerrank.com/challenges/whats-your-name/problem\n",
    "\n",
    "# You are given the firstname and lastname of a person on two different lines. Your task is to read them and print the following:\n",
    "\n",
    "# Hello firstname lastname! You just delved into python.\n",
    "\n",
    "# Input Format\n",
    "\n",
    "# The first line contains the first name, and the second line contains the last name.\n",
    "\n",
    "# Constraints\n",
    "\n",
    "# The length of the first and last name ≤ 10.\n",
    "\n",
    "# Output Format\n",
    "\n",
    "# Print the output as mentioned above.\n",
    "\n",
    "# Sample Input 0\n",
    "\n",
    "# Ross\n",
    "# Taylor\n",
    "# Sample Output 0\n",
    "\n",
    "# Hello Ross Taylor! You just delved into python.\n",
    "# Explanation 0\n",
    "\n",
    "# The input read by the program is stored as a string data type. A string is a collection of characters."
   ]
  },
  {
   "cell_type": "code",
   "execution_count": 3,
   "metadata": {},
   "outputs": [
    {
     "name": "stdout",
     "output_type": "stream",
     "text": [
      "Ross\n",
      "Taylor\n",
      "Hello Ross Taylor! You just delved into python.\n"
     ]
    }
   ],
   "source": [
    "first_name = input()\n",
    "last_name = input()\n",
    "\n",
    "print(\"Hello \", first_name, \" \", last_name, \"! You just delved into python.\", sep=\"\")"
   ]
  },
  {
   "cell_type": "code",
   "execution_count": null,
   "metadata": {},
   "outputs": [],
   "source": [
    "# Submission Code\n",
    "def print_full_name(a, b):\n",
    "    print(\"Hello \", a, \" \", b, \"! You just delved into python.\", sep=\"\")\n",
    "\n",
    "if __name__ == '__main__':\n",
    "    first_name = input()\n",
    "    last_name = input()\n",
    "    print_full_name(first_name, last_name)"
   ]
  }
 ],
 "metadata": {
  "kernelspec": {
   "display_name": "Python 3",
   "language": "python",
   "name": "python3"
  },
  "language_info": {
   "codemirror_mode": {
    "name": "ipython",
    "version": 3
   },
   "file_extension": ".py",
   "mimetype": "text/x-python",
   "name": "python",
   "nbconvert_exporter": "python",
   "pygments_lexer": "ipython3",
   "version": "3.7.1"
  }
 },
 "nbformat": 4,
 "nbformat_minor": 2
}
