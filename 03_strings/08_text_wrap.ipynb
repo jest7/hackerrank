{
 "cells": [
  {
   "cell_type": "code",
   "execution_count": null,
   "metadata": {},
   "outputs": [],
   "source": [
    "# https://www.hackerrank.com/challenges/text-wrap/problem\n",
    "    \n",
    "# You are given a string S and width W. \n",
    "# Your task is to wrap the string into a paragraph of width W.\n",
    "\n",
    "# Input Format\n",
    "\n",
    "# The first line contains a string, S. \n",
    "# The second line contains the width, W.\n",
    "\n",
    "# Constraints\n",
    "# 0 < len(S) < 1000\n",
    "# 0 < w < len(S)\n",
    "\n",
    "# Output Format\n",
    "\n",
    "# Print the text wrapped paragraph.\n",
    "\n",
    "# Sample Input 0\n",
    "\n",
    "# ABCDEFGHIJKLIMNOQRSTUVWXYZ\n",
    "# 4\n",
    "# Sample Output 0\n",
    "\n",
    "# ABCD\n",
    "# EFGH\n",
    "# IJKL\n",
    "# IMNO\n",
    "# QRST\n",
    "# UVWX\n",
    "# YZ"
   ]
  },
  {
   "cell_type": "code",
   "execution_count": null,
   "metadata": {},
   "outputs": [],
   "source": [
    "# Review the tutorial to understand the module that was imported.  Two functions\n",
    "# are referenced - textwrap.wrap() and textwrap.fill().  wrap() splits a string\n",
    "# into an array containing strings of X length.  fill() takes a string and \n",
    "# prints it onto each line where each line is X length\n",
    "import textwrap\n",
    "\n",
    "def wrap(string, max_width):\n",
    "    val = textwrap.fill(string, max_width)\n",
    "    return val\n",
    "\n",
    "if __name__ == '__main__':\n",
    "    string, max_width = input(), int(input())\n",
    "    result = wrap(string, max_width)\n",
    "    print(result)"
   ]
  }
 ],
 "metadata": {
  "kernelspec": {
   "display_name": "Python 3",
   "language": "python",
   "name": "python3"
  },
  "language_info": {
   "codemirror_mode": {
    "name": "ipython",
    "version": 3
   },
   "file_extension": ".py",
   "mimetype": "text/x-python",
   "name": "python",
   "nbconvert_exporter": "python",
   "pygments_lexer": "ipython3",
   "version": "3.7.1"
  }
 },
 "nbformat": 4,
 "nbformat_minor": 2
}
