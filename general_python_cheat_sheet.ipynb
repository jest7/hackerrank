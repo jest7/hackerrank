{
 "cells": [
  {
   "cell_type": "code",
   "execution_count": null,
   "metadata": {},
   "outputs": [],
   "source": [
    "# This doc is just a collection of general python cheat items that I would\n",
    "# want to reference quickly should I not remember syntax / function inputs"
   ]
  },
  {
   "cell_type": "code",
   "execution_count": 1,
   "metadata": {},
   "outputs": [
    {
     "name": "stdout",
     "output_type": "stream",
     "text": [
      "['a', 'b', 'c', 'd', 'e', 'f', 'g']\n"
     ]
    }
   ],
   "source": [
    "# list items\n",
    "l = [] # creates an empty list, L\n",
    "l = ['a', 'b', 'c', 'd'] # creates a list of elements a, b, c, d\n",
    "l_from_string = list('abcdefg') # creates a list based off a string input\n",
    "\n",
    "print(l_from_string)"
   ]
  },
  {
   "cell_type": "code",
   "execution_count": 2,
   "metadata": {},
   "outputs": [
    {
     "data": {
      "text/plain": [
       "7"
      ]
     },
     "execution_count": 2,
     "metadata": {},
     "output_type": "execute_result"
    }
   ],
   "source": [
    "# list Items continued\n",
    "\n",
    "len(l_from_string) # returns the length of the string"
   ]
  },
  {
   "cell_type": "code",
   "execution_count": 3,
   "metadata": {},
   "outputs": [
    {
     "data": {
      "text/plain": [
       "'b'"
      ]
     },
     "execution_count": 3,
     "metadata": {},
     "output_type": "execute_result"
    }
   ],
   "source": [
    "l_from_string[1] # selects the specific item in the list at this index.  This\n",
    "# will select the second item ('b') because lists are indexed at 0"
   ]
  },
  {
   "cell_type": "code",
   "execution_count": 4,
   "metadata": {},
   "outputs": [
    {
     "data": {
      "text/plain": [
       "'g'"
      ]
     },
     "execution_count": 4,
     "metadata": {},
     "output_type": "execute_result"
    }
   ],
   "source": [
    "l_from_string[-1] # this will select the last element in the list"
   ]
  },
  {
   "cell_type": "code",
   "execution_count": 5,
   "metadata": {},
   "outputs": [
    {
     "data": {
      "text/plain": [
       "['a', 'b', 'c']"
      ]
     },
     "execution_count": 5,
     "metadata": {},
     "output_type": "execute_result"
    }
   ],
   "source": [
    "l_from_string[0:3] # This will select a range of values"
   ]
  },
  {
   "cell_type": "code",
   "execution_count": 6,
   "metadata": {},
   "outputs": [
    {
     "data": {
      "text/plain": [
       "['b', 'c', 'd', 'e', 'f']"
      ]
     },
     "execution_count": 6,
     "metadata": {},
     "output_type": "execute_result"
    }
   ],
   "source": [
    "l_from_string[1:len(l_from_string)-1] # This notation will select everything\n",
    "# between the second elemnt and the second to last element.  Switch up as \n",
    "# needed"
   ]
  },
  {
   "cell_type": "code",
   "execution_count": 8,
   "metadata": {},
   "outputs": [],
   "source": [
    "l_from_string.append('6') # appends a new value at the end of list"
   ]
  },
  {
   "cell_type": "code",
   "execution_count": 9,
   "metadata": {},
   "outputs": [
    {
     "data": {
      "text/plain": [
       "['a', 'b', 'c', 'd', 'e', 'f', 'g', '6']"
      ]
     },
     "execution_count": 9,
     "metadata": {},
     "output_type": "execute_result"
    }
   ],
   "source": [
    "l_from_string # note that it appends it to the original string"
   ]
  },
  {
   "cell_type": "code",
   "execution_count": 16,
   "metadata": {},
   "outputs": [
    {
     "name": "stdout",
     "output_type": "stream",
     "text": [
      "['6', 'a', 'b', 'c', 'd', 'e', 'f', 'g'] \n",
      " ['a', 'b', 'c', 'd', 'e', 'f', 'g', '6']\n",
      "['6', 'a', 'b', 'c', 'd', 'e', 'f', 'g']\n"
     ]
    }
   ],
   "source": [
    "l_sorted = sorted(l_from_string) # sorts a string as a new variable\n",
    "\n",
    "print(l_sorted, '\\n', l_from_string) # note that the original variable order\n",
    "# stays the same as things were appended.  To change that, use .sort()\n",
    "\n",
    "l_from_string.sort()\n",
    "\n",
    "print(l_from_string)"
   ]
  },
  {
   "cell_type": "code",
   "execution_count": 18,
   "metadata": {},
   "outputs": [
    {
     "name": "stdout",
     "output_type": "stream",
     "text": [
      "['g', 'f', 'e', 'd', 'c', 'b', 'a', '6']\n"
     ]
    }
   ],
   "source": [
    "# Reversing lists can be done in one of two ways, sorted and reversed()\n",
    "\n",
    "l_sorted = sorted(l_from_string, reverse=True)\n",
    "\n",
    "print(l_sorted)"
   ]
  },
  {
   "cell_type": "code",
   "execution_count": 27,
   "metadata": {},
   "outputs": [],
   "source": [
    "l_sorted_2 = reversed(l_from_string)\n",
    "\n",
    "type(l_sorted_2) # note the type, this isn't a list\n",
    "\n",
    "list(l_sorted_2) # now that we convert to a list, it can be displayed\n",
    "# and is reversed"
   ]
  },
  {
   "cell_type": "code",
   "execution_count": 33,
   "metadata": {},
   "outputs": [
    {
     "data": {
      "text/plain": [
       "True"
      ]
     },
     "execution_count": 33,
     "metadata": {},
     "output_type": "execute_result"
    }
   ],
   "source": [
    "'b' in l_from_string # this returns true if a value is in the list"
   ]
  },
  {
   "cell_type": "code",
   "execution_count": 34,
   "metadata": {},
   "outputs": [
    {
     "data": {
      "text/plain": [
       "False"
      ]
     },
     "execution_count": 34,
     "metadata": {},
     "output_type": "execute_result"
    }
   ],
   "source": [
    "'adfe' in l_from_string"
   ]
  },
  {
   "cell_type": "code",
   "execution_count": 105,
   "metadata": {},
   "outputs": [
    {
     "name": "stdout",
     "output_type": "stream",
     "text": [
      "['t', 'h', 'i', 's', ' ', 'i', 's', ' ', 'a', ' ', 's', 't', 'r', 'i', 'n', 'g']\n",
      "['t', 'h', 'i', 's', 'i', 's', ' ', 'a', ' ', 's', 't', 'r', 'i', 'n', 'g']\n",
      "['t', 'h', 'i', 's', 'i', 's', ' ', 'a', ' ', 's', 't', 'r', 'i', 'n']\n",
      "['t', 'h', 'i', 's', 'i', 's', ' ', 'a', ' ', 's', 't', 'r', 'i']\n",
      "['h', 'i', 's', 'i', 's', ' ', 'a', ' ', 's', 'r', 'i']\n"
     ]
    }
   ],
   "source": [
    "# remove item from list\n",
    "l_strings = list('this is a string')\n",
    "\n",
    "print(l_strings)\n",
    "\n",
    "l_strings.remove(' ') # removes the first instance of a space\n",
    "print(l_strings)\n",
    "\n",
    "l_strings.pop(len(l_strings) - 1) # removes the item at the index, this will remove the 'g'\n",
    "\n",
    "print(l_strings)\n",
    "\n",
    "del l_strings[-1] # removes at an index location similar to pop, can pass ranges\n",
    "print(l_strings) # removes the last 'n' because of the preceding pop command\n",
    "\n",
    "l_strings = list(filter(lambda x: x != 't', l_strings)) # filter for everything\n",
    "# that doesn't equal a t.\n",
    "print(l_strings)"
   ]
  },
  {
   "cell_type": "code",
   "execution_count": 36,
   "metadata": {},
   "outputs": [
    {
     "name": "stdout",
     "output_type": "stream",
     "text": [
      "4\n"
     ]
    }
   ],
   "source": [
    "# simple loop statement here.  Remember we set l = 'a', 'b', 'c', 'd' earlier\n",
    "# this loops for every entry in l to see if the element in l is in \n",
    "count_l = 0\n",
    "for x in l:\n",
    "    if x in l_from_string:\n",
    "        count_l = count_l + 1\n",
    "\n",
    "print(count_l)"
   ]
  },
  {
   "cell_type": "code",
   "execution_count": 43,
   "metadata": {},
   "outputs": [
    {
     "name": "stdout",
     "output_type": "stream",
     "text": [
      "6 True\n",
      "a False\n",
      "b False\n",
      "c False\n",
      "d False\n",
      "e False\n",
      "f False\n",
      "g False\n",
      "more stuff False\n",
      "more stuff False\n"
     ]
    }
   ],
   "source": [
    "# loop statement checking if any part of the list is a digit \n",
    "for i in l_from_string:\n",
    "    l_digit = i.isdigit()\n",
    "    print(i, l_digit)"
   ]
  },
  {
   "cell_type": "code",
   "execution_count": 44,
   "metadata": {},
   "outputs": [
    {
     "name": "stdout",
     "output_type": "stream",
     "text": [
      "[True]\n",
      "[True, False]\n",
      "[True, False, False]\n",
      "[True, False, False, False]\n",
      "[True, False, False, False, False]\n",
      "[True, False, False, False, False, False]\n",
      "[True, False, False, False, False, False, False]\n",
      "[True, False, False, False, False, False, False, False]\n",
      "[True, False, False, False, False, False, False, False, False]\n",
      "[True, False, False, False, False, False, False, False, False, False]\n"
     ]
    }
   ],
   "source": [
    "# rather than print, this is how you'd create a list of the outputs\n",
    "l_digit_list = []\n",
    "for i in l_from_string:\n",
    "    l_digit_list.append(i.isdigit())\n",
    "    print(l_digit_list)\n"
   ]
  },
  {
   "cell_type": "code",
   "execution_count": 46,
   "metadata": {},
   "outputs": [
    {
     "name": "stdout",
     "output_type": "stream",
     "text": [
      "True\n",
      "True\n",
      "True\n",
      "True\n",
      "True\n",
      "True\n",
      "True\n",
      "True\n",
      "True\n",
      "True\n"
     ]
    }
   ],
   "source": [
    "# If you want to return a single value if any of the elements are true, use\n",
    "# the any function\n",
    "l_digit_list = []\n",
    "for i in l_from_string:\n",
    "    l_digit_list.append(i.isdigit())\n",
    "    print(any(l_digit_list))\n"
   ]
  },
  {
   "cell_type": "code",
   "execution_count": 47,
   "metadata": {},
   "outputs": [
    {
     "name": "stdout",
     "output_type": "stream",
     "text": [
      "[True, False, False, False, False, False, False, False, False, False]\n"
     ]
    }
   ],
   "source": [
    "# If we're returning a list, we can use a different notation called list comprehension\n",
    "l_digit_comp = []\n",
    "l_digit_comp = [i.isdigit() for i in l_from_string]\n",
    "print(l_digit_comp)"
   ]
  },
  {
   "cell_type": "code",
   "execution_count": 51,
   "metadata": {},
   "outputs": [
    {
     "data": {
      "text/plain": [
       "'c'"
      ]
     },
     "execution_count": 51,
     "metadata": {},
     "output_type": "execute_result"
    }
   ],
   "source": [
    "# to select a random value from a string, you have to import the random module\n",
    "import random\n",
    "\n",
    "random.choice(l_from_string)"
   ]
  },
  {
   "cell_type": "code",
   "execution_count": 55,
   "metadata": {},
   "outputs": [
    {
     "name": "stdout",
     "output_type": "stream",
     "text": [
      "[0, 1, 2, 3, 4, 5, 6, 7, 8, 9]\n"
     ]
    },
    {
     "data": {
      "text/plain": [
       "45"
      ]
     },
     "execution_count": 55,
     "metadata": {},
     "output_type": "execute_result"
    }
   ],
   "source": [
    "# Summing values in a list\n",
    "l_nums = list(range(0, 10))\n",
    "print (l_nums)\n",
    "\n",
    "sum(l_nums)"
   ]
  },
  {
   "cell_type": "code",
   "execution_count": 57,
   "metadata": {},
   "outputs": [
    {
     "name": "stdout",
     "output_type": "stream",
     "text": [
      "[0, 2, 4, 6, 8, 10, 12, 14, 16, 18]\n"
     ]
    }
   ],
   "source": [
    "# map applies a function to everything in a list\n",
    "l_multi = map(lambda x: x * 2, l_nums)\n",
    "print(list(l_multi))"
   ]
  },
  {
   "cell_type": "code",
   "execution_count": 59,
   "metadata": {},
   "outputs": [
    {
     "name": "stdout",
     "output_type": "stream",
     "text": [
      "[0, 3, 6, 9, 12, 15, 18, 21, 24, 27]\n"
     ]
    }
   ],
   "source": [
    "# The previous used a lambda function, this is how you do it the long way\n",
    "\n",
    "def fn_multi(x):\n",
    "    return x * 3\n",
    "\n",
    "l_multi2 = map(fn_multi, l_nums)\n",
    "print(list(l_multi2))"
   ]
  },
  {
   "cell_type": "code",
   "execution_count": 64,
   "metadata": {},
   "outputs": [
    {
     "name": "stdout",
     "output_type": "stream",
     "text": [
      "[0, 1, 3, 6, 10, 15, 21, 28, 36, 45]\n"
     ]
    }
   ],
   "source": [
    "# Return a cumulative sum of a list\n",
    "l_nums = list(range(0, 10))\n",
    "total = 0\n",
    "new_list = []\n",
    "\n",
    "for x in l_nums:\n",
    "    total = total + x\n",
    "    new_list.append(total)\n",
    "\n",
    "print(new_list)"
   ]
  },
  {
   "cell_type": "code",
   "execution_count": 68,
   "metadata": {},
   "outputs": [
    {
     "name": "stdout",
     "output_type": "stream",
     "text": [
      "4.5\n",
      "4.50\n",
      "4\n"
     ]
    }
   ],
   "source": [
    "# average of a list is just sum / length\n",
    "l_nums = list(range(0, 10))\n",
    "\n",
    "print(sum(l_nums) / len(l_nums))\n",
    "\n",
    "print(\"{:0.2f}\".format(sum(l_nums) / len(l_nums))) # forces rounding to two chars\n",
    "\n",
    "print(sum(l_nums) // len(l_nums)) # two / forces int division"
   ]
  },
  {
   "cell_type": "code",
   "execution_count": 74,
   "metadata": {},
   "outputs": [],
   "source": [
    "# Determining odd / even values in a list\n",
    "l_nums = list(range(0, 10))\n",
    "\n",
    "def odd_or_even (x):\n",
    "    return x % 2 == 0\n",
    "\n",
    "l_output = []\n",
    "for x in l_nums:\n",
    "    l_output.append(odd_or_even(x))\n"
   ]
  },
  {
   "cell_type": "code",
   "execution_count": 75,
   "metadata": {},
   "outputs": [
    {
     "name": "stdout",
     "output_type": "stream",
     "text": [
      "[True, False, True, False, True, False, True, False, True, False]\n"
     ]
    }
   ],
   "source": [
    "print(l_output)"
   ]
  },
  {
   "cell_type": "code",
   "execution_count": 83,
   "metadata": {},
   "outputs": [
    {
     "name": "stdout",
     "output_type": "stream",
     "text": [
      "[1, 3, 5, 7, 9]\n"
     ]
    }
   ],
   "source": [
    "# Writing a function that returns elements at odd positions\n",
    "l_nums = list(range(0, 10))\n",
    "\n",
    "l_elements = []\n",
    "def odd_elements(x):\n",
    "    if x % 2 != 0:\n",
    "        l_elements.append(l_nums[x])\n",
    "\n",
    "for x in l_nums:\n",
    "    odd_elements(x)\n",
    "\n",
    "print(l_elements)"
   ]
  },
  {
   "cell_type": "code",
   "execution_count": 84,
   "metadata": {},
   "outputs": [
    {
     "name": "stdout",
     "output_type": "stream",
     "text": [
      "[0, 15, 30, 45]\n"
     ]
    }
   ],
   "source": [
    "# Write a function where if the number is divisible by 3 and by 5, then print\n",
    "# the value\n",
    "l_nums = list(range(0, 50))\n",
    "\n",
    "l_elements = []\n",
    "def f_elements(x):\n",
    "    if x % 3 == 0 and x % 5 == 0:\n",
    "        l_elements.append(l_nums[x])\n",
    "\n",
    "for x in l_nums:\n",
    "    f_elements(x)\n",
    "\n",
    "print(l_elements)"
   ]
  },
  {
   "cell_type": "code",
   "execution_count": 128,
   "metadata": {},
   "outputs": [
    {
     "name": "stdout",
     "output_type": "stream",
     "text": [
      "['b', 'd', 'f']\n"
     ]
    }
   ],
   "source": [
    "# Write a function that returns the values at odd intervals\n",
    "l_strings = list('abcdef')\n",
    "\n",
    "\n",
    "def odd_index_only(a):\n",
    "    i = 0\n",
    "    odd_elements = []\n",
    "    for v in a:\n",
    "        if i % 2 != 0:\n",
    "            odd_elements.append(v)\n",
    "        i += 1\n",
    "    print(odd_elements)\n",
    "\n",
    "odd_index_only(l_strings)"
   ]
  },
  {
   "cell_type": "code",
   "execution_count": null,
   "metadata": {},
   "outputs": [],
   "source": []
  },
  {
   "cell_type": "code",
   "execution_count": null,
   "metadata": {},
   "outputs": [],
   "source": []
  }
 ],
 "metadata": {
  "kernelspec": {
   "display_name": "Python 3",
   "language": "python",
   "name": "python3"
  },
  "language_info": {
   "codemirror_mode": {
    "name": "ipython",
    "version": 3
   },
   "file_extension": ".py",
   "mimetype": "text/x-python",
   "name": "python",
   "nbconvert_exporter": "python",
   "pygments_lexer": "ipython3",
   "version": "3.7.1"
  }
 },
 "nbformat": 4,
 "nbformat_minor": 2
}
