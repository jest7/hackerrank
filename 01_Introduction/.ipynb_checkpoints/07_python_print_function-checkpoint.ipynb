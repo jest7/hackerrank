{
 "cells": [
  {
   "cell_type": "code",
   "execution_count": null,
   "metadata": {},
   "outputs": [],
   "source": [
    "# https://www.hackerrank.com/challenges/python-print/problem\n",
    "\n",
    "# Read an integer N.\n",
    "\n",
    "# Without using any string methods, try to print the following:\n",
    "# 123...N\n",
    "\n",
    "# Note that \"...\" represents the values in between.\n",
    "\n",
    "# Input Format\n",
    "\n",
    "# The first line contains an integer N.\n",
    "\n",
    "# Output Format\n",
    "\n",
    "# Output the answer as explained in the task.\n",
    "\n",
    "# Sample Input 0\n",
    "# 3\n",
    "\n",
    "# Sample Output 0\n",
    "# 123"
   ]
  },
  {
   "cell_type": "code",
   "execution_count": 10,
   "metadata": {},
   "outputs": [
    {
     "name": "stdout",
     "output_type": "stream",
     "text": [
      "[1, 2, 3, 4, 5, 6, 7, 8, 9, 10]\n"
     ]
    }
   ],
   "source": [
    "# We can construct this once again using a list from 1 - N+1 (because it's positional, not value based)\n",
    "n = 10\n",
    "n_out = list(range(1, n+1))\n",
    "print(n_out)"
   ]
  },
  {
   "cell_type": "code",
   "execution_count": 11,
   "metadata": {},
   "outputs": [
    {
     "name": "stdout",
     "output_type": "stream",
     "text": [
      "12345678910\n"
     ]
    }
   ],
   "source": [
    "# The instructions say not to use any string methods, but using a string method we can actually use a join\n",
    "# for all values in the list.\n",
    "print(''.join(str(n) for n in n_out))"
   ]
  },
  {
   "cell_type": "code",
   "execution_count": 12,
   "metadata": {},
   "outputs": [
    {
     "name": "stdout",
     "output_type": "stream",
     "text": [
      "12345678910\n"
     ]
    }
   ],
   "source": [
    "# Alternatively, we can also skip the step of creating the list variable and just pass it as part of the range\n",
    "n = 10\n",
    "print(''.join(str(n) for n in list(range(1,n+1))))"
   ]
  },
  {
   "cell_type": "code",
   "execution_count": 13,
   "metadata": {},
   "outputs": [
    {
     "name": "stdout",
     "output_type": "stream",
     "text": [
      "5\n",
      "12345\n"
     ]
    }
   ],
   "source": [
    "# Submission code\n",
    "if __name__ == '__main__':\n",
    "    n = int(input())\n",
    "\n",
    "print(''.join(str(n) for n in list(range(1,n+1))))"
   ]
  },
  {
   "cell_type": "code",
   "execution_count": 18,
   "metadata": {},
   "outputs": [
    {
     "name": "stdout",
     "output_type": "stream",
     "text": [
      "10\n",
      "12345678910\n"
     ]
    }
   ],
   "source": [
    "# From the discussion, here's a much simplier way of achieving this\n",
    "print(*range(1, int(input())+1), sep='')\n",
    "# * prefix unpackes an array/list.  Normally range() as we use it would return [1, 2, 3, 4, ...] but when prefixed with a *, it\n",
    "# just automatically unpacks the array as input values.  sep='' controls the delimiter between values, without it our example\n",
    "# would return: 1 2 3 4 ..."
   ]
  },
  {
   "cell_type": "code",
   "execution_count": null,
   "metadata": {},
   "outputs": [],
   "source": []
  }
 ],
 "metadata": {
  "kernelspec": {
   "display_name": "Python 3",
   "language": "python",
   "name": "python3"
  },
  "language_info": {
   "codemirror_mode": {
    "name": "ipython",
    "version": 3
   },
   "file_extension": ".py",
   "mimetype": "text/x-python",
   "name": "python",
   "nbconvert_exporter": "python",
   "pygments_lexer": "ipython3",
   "version": "3.7.1"
  }
 },
 "nbformat": 4,
 "nbformat_minor": 2
}
