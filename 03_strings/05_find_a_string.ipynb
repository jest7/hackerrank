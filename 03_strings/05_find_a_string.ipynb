{
 "cells": [
  {
   "cell_type": "code",
   "execution_count": 4,
   "metadata": {},
   "outputs": [],
   "source": [
    "# https://www.hackerrank.com/challenges/find-a-string/problem\n",
    "\n",
    "# In this challenge, the user enters a string and a substring. You have to print the number of times that the substring occurs in the given string. String traversal will take place from left to right, not from right to left.\n",
    "\n",
    "# NOTE: String letters are case-sensitive.\n",
    "\n",
    "# Input Format\n",
    "\n",
    "# The first line of input contains the original string. The next line contains the substring.\n",
    "\n",
    "# Constraints\n",
    "\n",
    "# 1 <= len(string) <= 200\n",
    "# Each character in the string is an ascii character.\n",
    "\n",
    "# Output Format\n",
    "\n",
    "# Output the integer number indicating the total number of occurrences of the substring in the original string.\n",
    "\n",
    "# Sample Input\n",
    "\n",
    "# ABCDCDC\n",
    "# CDC\n",
    "# Sample Output\n",
    "\n",
    "# 2\n",
    "# Concept\n",
    "\n",
    "# Some string processing examples, such as these, might be useful. \n",
    "# There are a couple of new concepts: \n",
    "# In Python, the length of a string is found by the function len(s), where s is the string. \n",
    "# To traverse through the length of a string, use a for loop:\n",
    "\n",
    "# for i in range(0, len(s)):\n",
    "#     print (s[i])\n",
    "# A range function is used to loop over some length:\n",
    "\n",
    "# range (0, 5)\n",
    "# Here, the range loops over 0 to 4. 5 is excluded."
   ]
  },
  {
   "cell_type": "code",
   "execution_count": null,
   "metadata": {},
   "outputs": [],
   "source": [
    "def count_substring(string, sub_string):\n",
    "    freq = 0\n",
    "    for ss in range(len(string)): # 1\n",
    "        if string[ss:].startswith(sub_string): #2\n",
    "            freq = freq + 1\n",
    "    return freq\n",
    "\n",
    "if __name__ == '__main__':\n",
    "    string = input().strip()\n",
    "    sub_string = input().strip()\n",
    "    \n",
    "    count = count_substring(string, sub_string)\n",
    "    print(count\n",
    "\n",
    "# 1) this starts the loop all the way to the end of the string.  It creates a\n",
    "# range from 0 through the length of the full string\n",
    "# 2) string[ss:] starts the search at the same index point and goes to the end \n",
    "# of the string"
   ]
  }
 ],
 "metadata": {
  "kernelspec": {
   "display_name": "Python 3",
   "language": "python",
   "name": "python3"
  },
  "language_info": {
   "codemirror_mode": {
    "name": "ipython",
    "version": 3
   },
   "file_extension": ".py",
   "mimetype": "text/x-python",
   "name": "python",
   "nbconvert_exporter": "python",
   "pygments_lexer": "ipython3",
   "version": "3.7.1"
  }
 },
 "nbformat": 4,
 "nbformat_minor": 2
}
