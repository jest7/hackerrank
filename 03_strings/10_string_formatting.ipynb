{
 "cells": [
  {
   "cell_type": "code",
   "execution_count": null,
   "metadata": {},
   "outputs": [],
   "source": [
    "# https://www.hackerrank.com/challenges/python-string-formatting/problem\n",
    "\n",
    "# Given an integer, n, print the following values for each integer i from 1 to n:\n",
    "\n",
    "# Decimal\n",
    "# Octal\n",
    "# Hexadecimal (capitalized)\n",
    "# Binary\n",
    "# The four values must be printed on a single line in the order specified above for each i from 1 to n. Each value should be space-padded to match the width of the binary value of n.\n",
    "\n",
    "# Input Format\n",
    "\n",
    "# A single integer denoting n.\n",
    "\n",
    "# Constraints\n",
    "# 1 <= n <= 99\n",
    "\n",
    "# Output Format\n",
    "\n",
    "# Print n lines where each line i (in the range 1<= i <= n) contains the respective decimal, octal, capitalized hexadecimal, and binary values of i. Each printed value must be formatted to the width of the binary value of n.\n",
    "\n",
    "# Sample Input\n",
    "\n",
    "# 17\n",
    "# Sample Output\n",
    "\n",
    "#     1     1     1     1\n",
    "#     2     2     2    10\n",
    "#     3     3     3    11\n",
    "#     4     4     4   100\n",
    "#     5     5     5   101\n",
    "#     6     6     6   110\n",
    "#     7     7     7   111\n",
    "#     8    10     8  1000\n",
    "#     9    11     9  1001\n",
    "#    10    12     A  1010\n",
    "#    11    13     B  1011\n",
    "#    12    14     C  1100\n",
    "#    13    15     D  1101\n",
    "#    14    16     E  1110\n",
    "#    15    17     F  1111\n",
    "#    16    20    10 10000\n",
    "#    17    21    11 10001     "
   ]
  },
  {
   "cell_type": "code",
   "execution_count": 4,
   "metadata": {},
   "outputs": [
    {
     "name": "stdout",
     "output_type": "stream",
     "text": [
      "17\n",
      "21\n",
      "11\n",
      "10001\n"
     ]
    }
   ],
   "source": [
    "# This question is going to be tackled in a few parts:\n",
    "# 1) Taking the input and figuring out the length required for each output\n",
    "# 2)  Determining the right function to run for each request\n",
    "# 3)  Looping through all results and printing each line between 1:N\n",
    "\n",
    "sample_data = int(17)\n",
    "\n",
    "# Decimal \n",
    "dec_data = int(sample_data)\n",
    "print(dec_data)\n",
    "\n",
    "# Octal values\n",
    "oct_data = oct(sample_data).replace('0o', '')\n",
    "print(oct_data)\n",
    "\n",
    "# Hexadecimal\n",
    "hex_data = hex(sample_data).replace('0x', '').upper() # 1)\n",
    "print(hex_data)\n",
    "\n",
    "# Binary\n",
    "bin_data = bin(sample_data).replace('0b','')\n",
    "print(bin_data)\n",
    "\n",
    "# Oct, Hex, and Bin add a prefix into each result so we need to replace that\n",
    "# for the actual value we want to print\n",
    "# 1) Upper is required here otherwise the output will have lowercase a-f"
   ]
  },
  {
   "cell_type": "code",
   "execution_count": 20,
   "metadata": {},
   "outputs": [
    {
     "name": "stdout",
     "output_type": "stream",
     "text": [
      "   17   21   1110001\n"
     ]
    }
   ],
   "source": [
    "# Since we're already calculating the binary value of the input, now we just\n",
    "# use the length and pad everything else\n",
    "\n",
    "str_size = len(bin_data)\n",
    "\n",
    "f_dec = str(dec_data).rjust(str_size, ' ')\n",
    "f_oct = str(oct_data).rjust(str_size, ' ')\n",
    "f_hex = str(hex_data).rjust(str_size, ' ')\n",
    "f_bin = str(bin_data).rjust(str_size, ' ')\n",
    "\n",
    "print(''.join([f_dec, f_oct, f_hex, f_bin]))"
   ]
  },
  {
   "cell_type": "code",
   "execution_count": 28,
   "metadata": {},
   "outputs": [
    {
     "name": "stdout",
     "output_type": "stream",
     "text": [
      "17\n",
      "    1     1     1     1\n",
      "    2     2     2    10\n",
      "    3     3     3    11\n",
      "    4     4     4   100\n",
      "    5     5     5   101\n",
      "    6     6     6   110\n",
      "    7     7     7   111\n",
      "    8    10     8  1000\n",
      "    9    11     9  1001\n",
      "   10    12     A  1010\n",
      "   11    13     B  1011\n",
      "   12    14     C  1100\n",
      "   13    15     D  1101\n",
      "   14    16     E  1110\n",
      "   15    17     F  1111\n",
      "   16    20    10 10000\n",
      "   17    21    11 10001\n"
     ]
    }
   ],
   "source": [
    "# Now we combine everything and iterate through the function\n",
    "\n",
    "def print_formatted(number):\n",
    "    for i in range(1, number+1):\n",
    "        str_size = len(bin(number).replace('0b','')) #1\n",
    "        dec_data = int(i)\n",
    "        oct_data = oct(i).replace('0o', '')\n",
    "        hex_data = hex(i).replace('0x', '').upper() \n",
    "        bin_data = bin(i).replace('0b','')\n",
    "        f_dec = str(dec_data).rjust(str_size, ' ')\n",
    "        f_oct = str(oct_data).rjust(str_size, ' ')\n",
    "        f_hex = str(hex_data).rjust(str_size, ' ')\n",
    "        f_bin = str(bin_data).rjust(str_size, ' ')\n",
    "\n",
    "        print(f_dec, f_oct, f_hex, f_bin) # 2\n",
    "\n",
    "if __name__ == '__main__':\n",
    "    n = int(input())\n",
    "    print_formatted(n)\n",
    "\n",
    "# 1)  Had to do a slight modificationf or the loop.  We needed to determine the\n",
    "# length of bin() of the input value which means we had to calculate it earlier\n",
    "# than we did in the above exercise\n",
    "# 2)  This was changed also - I originally thought they wanted everything to be\n",
    "# close together.  Doesn't appear that way."
   ]
  },
  {
   "cell_type": "code",
   "execution_count": null,
   "metadata": {},
   "outputs": [],
   "source": []
  }
 ],
 "metadata": {
  "kernelspec": {
   "display_name": "Python 3",
   "language": "python",
   "name": "python3"
  },
  "language_info": {
   "codemirror_mode": {
    "name": "ipython",
    "version": 3
   },
   "file_extension": ".py",
   "mimetype": "text/x-python",
   "name": "python",
   "nbconvert_exporter": "python",
   "pygments_lexer": "ipython3",
   "version": "3.7.1"
  }
 },
 "nbformat": 4,
 "nbformat_minor": 2
}
