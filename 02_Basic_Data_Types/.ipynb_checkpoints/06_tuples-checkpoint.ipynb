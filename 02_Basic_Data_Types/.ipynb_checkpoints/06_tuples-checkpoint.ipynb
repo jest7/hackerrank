{
 "cells": [
  {
   "cell_type": "code",
   "execution_count": null,
   "metadata": {},
   "outputs": [],
   "source": [
    "# https://www.hackerrank.com/challenges/python-tuples/problem\n",
    "\n",
    "# Task \n",
    "# Given an integer, n, and n space-separated integers as input, create a tuple, t, of those n integers. Then compute and print the result of hash(t).\n",
    "\n",
    "# Note: hash() is one of the functions in the __builtins__ module, so it need not be imported.\n",
    "\n",
    "# Input Format\n",
    "\n",
    "# The first line contains an integer, n, denoting the number of elements in the tuple. \n",
    "# The second line contains n space-separated integers describing the elements in tuple t.\n",
    "\n",
    "# Output Format\n",
    "\n",
    "# Print the result of hash(t).\n",
    "\n",
    "# Sample Input 0\n",
    "\n",
    "# 2\n",
    "# 1 2\n",
    "# Sample Output 0\n",
    "\n",
    "# 3713081631934410656"
   ]
  },
  {
   "cell_type": "code",
   "execution_count": 5,
   "metadata": {},
   "outputs": [
    {
     "name": "stdout",
     "output_type": "stream",
     "text": [
      "2\n",
      "1 2\n",
      "3713081631934410656\n"
     ]
    }
   ],
   "source": [
    "# This seems fairly straight forward.  the inputs come in and are split into\n",
    "# a list.  The list should then get converted into a tuple and then hashed\n",
    "\n",
    "if __name__ == '__main__':\n",
    "    n = int(input())\n",
    "    integer_list = map(int, input().split())\n",
    "\n",
    "print(hash(tuple(integer_list)))\n"
   ]
  },
  {
   "cell_type": "code",
   "execution_count": null,
   "metadata": {},
   "outputs": [],
   "source": []
  }
 ],
 "metadata": {
  "kernelspec": {
   "display_name": "Python 3",
   "language": "python",
   "name": "python3"
  },
  "language_info": {
   "codemirror_mode": {
    "name": "ipython",
    "version": 3
   },
   "file_extension": ".py",
   "mimetype": "text/x-python",
   "name": "python",
   "nbconvert_exporter": "python",
   "pygments_lexer": "ipython3",
   "version": "3.7.1"
  }
 },
 "nbformat": 4,
 "nbformat_minor": 2
}
