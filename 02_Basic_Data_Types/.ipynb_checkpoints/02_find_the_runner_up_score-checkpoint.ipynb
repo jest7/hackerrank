{
 "cells": [
  {
   "cell_type": "code",
   "execution_count": null,
   "metadata": {},
   "outputs": [],
   "source": [
    "# https://www.hackerrank.com/challenges/find-second-maximum-number-in-a-list/problem\n",
    "\n",
    "# Given the participants' score sheet for your University Sports Day, you are required to find the runner-up score. You are given n scores. Store them in a list and find the score of the runner-up.\n",
    "\n",
    "# Input Format\n",
    "\n",
    "# The first line contains n. The second line contains an array A[] of n integers each separated by a space.\n",
    "\n",
    "# Constraints\n",
    "# 2 <= n <= 10\n",
    "# -100 <= A[i] <= 100\n",
    "\n",
    "# Output Format\n",
    "# Print the runner-up score.\n",
    "\n",
    "# Sample Input 0\n",
    "# 5\n",
    "# 2 3 6 6 5\n",
    "\n",
    "# Sample Output 0\n",
    "# 5\n",
    "\n",
    "# Explanation 0\n",
    "# Given list is [2,3,6,6,5]. The maximum score is 6, second maximum is 5. Hence, we print 5 as the runner-up score."
   ]
  },
  {
   "cell_type": "code",
   "execution_count": 10,
   "metadata": {},
   "outputs": [],
   "source": [
    "# This is one of the first problems that I knew how to tackle almost immediately\n",
    "# after I finished reading the problem statement.  Essentially the approach\n",
    "# I'm taking is deduping the input list, sorting the elements, and then\n",
    "# selecting the second highest value\n",
    "\n",
    "# input variables below\n",
    "n = 5\n",
    "arr = [2,3,6,6,5]\n",
    "\n",
    "# I'm not entirely sure why they provide n, but I think it has to do with\n",
    "# trying to figure out the second highest score's placement.  I chose to ignore \n",
    "# it in my solution\n"
   ]
  },
  {
   "cell_type": "code",
   "execution_count": 18,
   "metadata": {},
   "outputs": [
    {
     "data": {
      "text/plain": [
       "[2, 3, 5, 6]"
      ]
     },
     "execution_count": 18,
     "metadata": {},
     "output_type": "execute_result"
    }
   ],
   "source": [
    "# The first step is to dedupe the values in the input array.  This can be \n",
    "# easily done by just converting the list to a set() since values in a set\n",
    "# are unique anyhow.  Once it's in a set, convert it back to a list()\n",
    "arr1 = list(set(arr))\n",
    "\n",
    "arr1"
   ]
  },
  {
   "cell_type": "code",
   "execution_count": 19,
   "metadata": {},
   "outputs": [
    {
     "data": {
      "text/plain": [
       "5"
      ]
     },
     "execution_count": 19,
     "metadata": {},
     "output_type": "execute_result"
    }
   ],
   "source": [
    "# Now that we have a unique list, rather than trying to figure out the position\n",
    "# of the second highest value, we can just reverse the list and take the second\n",
    "# value ([1])\n",
    "arr2 = sorted(arr1, reverse=True)\n",
    "\n",
    "arr2[1]"
   ]
  },
  {
   "cell_type": "code",
   "execution_count": 20,
   "metadata": {},
   "outputs": [
    {
     "name": "stdout",
     "output_type": "stream",
     "text": [
      "5\n"
     ]
    }
   ],
   "source": [
    "# Submission code\n",
    "# We can actually combine everything all at once for a one line solution\n",
    "\n",
    "print(sorted(list(set(arr)), reverse=True)[1])"
   ]
  },
  {
   "cell_type": "code",
   "execution_count": null,
   "metadata": {},
   "outputs": [],
   "source": []
  }
 ],
 "metadata": {
  "kernelspec": {
   "display_name": "Python 3",
   "language": "python",
   "name": "python3"
  },
  "language_info": {
   "codemirror_mode": {
    "name": "ipython",
    "version": 3
   },
   "file_extension": ".py",
   "mimetype": "text/x-python",
   "name": "python",
   "nbconvert_exporter": "python",
   "pygments_lexer": "ipython3",
   "version": "3.7.1"
  }
 },
 "nbformat": 4,
 "nbformat_minor": 2
}
