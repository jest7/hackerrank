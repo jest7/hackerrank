{
 "cells": [
  {
   "cell_type": "code",
   "execution_count": 1,
   "metadata": {},
   "outputs": [],
   "source": [
    "# https://www.hackerrank.com/challenges/py-if-else/problem\n",
    "\n",
    "# Task\n",
    "# Given an integer, , perform the following conditional actions:\n",
    "#\n",
    "# If n is odd, print Weird\n",
    "# If n is even and in the inclusive range of 2 to 5, print Not Weird\n",
    "# If n is even and in the inclusive range of 6 to 20, print Weird\n",
    "# If n is even and greater than 20, print Not Weird\n",
    "# Input Format\n",
    "#\n",
    "# A single line containing a positive integer, n.\n",
    "#\n",
    "# Constraints\n",
    "#  1 <= n <= 100\n",
    "#\n",
    "# Output Format\n",
    "#\n",
    "# Print Weird if the number is weird; otherwise, print Not Weird.\n",
    "#\n",
    "# Sample Input 0\n",
    "# 3\n",
    "# Sample Output 0\n",
    "# Weird\n",
    "# Explanation 0\n",
    "# n = 3\n",
    "#\n",
    "# n is odd and odd numbers are weird, so we print Weird.\n",
    "#\n",
    "# Sample Input 1\n",
    "#\n",
    "# 24\n",
    "# Sample Output 1\n",
    "#\n",
    "# Explanation 1\n",
    "# Not Weird\n",
    "# n = 24\n",
    "# n > and  is even, so it isn't weird. Thus, we print Not Weird."
   ]
  },
  {
   "cell_type": "code",
   "execution_count": null,
   "metadata": {},
   "outputs": [],
   "source": [
    "# Author's note - for this exercise, I wanted to practice creating a function\n",
    "# The actual submitted answer will vary slightly from the function I created\n",
    "# but the output should actually be the same."
   ]
  },
  {
   "cell_type": "code",
   "execution_count": 5,
   "metadata": {},
   "outputs": [],
   "source": [
    "# First determine if an integer, n, is odd.  One way to do this is to check\n",
    "# the remainder of the int when divided by 2.  If remainder == 0 then even\n",
    "# otherwise the number is odd\n",
    "def oddOrEven(input_num):\n",
    "    if input_num % 2 == 0:\n",
    "        output_str = \"Even\"\n",
    "    else:\n",
    "        output_str = \"Weird\"\n",
    "    print(output_str)\n",
    "    return"
   ]
  },
  {
   "cell_type": "code",
   "execution_count": 6,
   "metadata": {},
   "outputs": [
    {
     "name": "stdout",
     "output_type": "stream",
     "text": [
      "Even\n",
      "Weird\n"
     ]
    }
   ],
   "source": [
    "# Testing function\n",
    "oddOrEven(4)\n",
    "oddOrEven(5)"
   ]
  },
  {
   "cell_type": "code",
   "execution_count": 7,
   "metadata": {},
   "outputs": [],
   "source": [
    "# Second, address the additional requirements:\n",
    "# If n is even and in the inclusive range of 2 to 5, print Not Weird\n",
    "# If n is even and in the inclusive range of 6 to 20, print Weird\n",
    "# If n is even and greater than 20, print Not Weird\n",
    "def oddOrEven(input_num):\n",
    "    if input_num % 2 == 0:\n",
    "        if 2 <= input_num <= 5:\n",
    "            output_str = \"Not Weird\"\n",
    "        elif 6 <= input_num <= 20:\n",
    "            output_str = \"Weird\"\n",
    "        else:\n",
    "            output_str = \"Not Weird\" # Note - this satisfies the last criteria because all evens between 2-20 are accounted for\n",
    "    else:\n",
    "        output_str = \"Weird\"\n",
    "    print(output_str)\n",
    "    return"
   ]
  },
  {
   "cell_type": "code",
   "execution_count": 10,
   "metadata": {},
   "outputs": [
    {
     "name": "stdout",
     "output_type": "stream",
     "text": [
      "Weird\n",
      "Not Weird\n",
      "Weird\n",
      "Weird\n",
      "Not Weird\n"
     ]
    }
   ],
   "source": [
    "# Test cases\n",
    "\n",
    "oddOrEven(1)\n",
    "oddOrEven(4)\n",
    "oddOrEven(6)\n",
    "oddOrEven(18)\n",
    "oddOrEven(22)\n"
   ]
  },
  {
   "cell_type": "code",
   "execution_count": null,
   "metadata": {},
   "outputs": [],
   "source": [
    "# Actual submitted answers\n",
    "#!/bin/python3\n",
    "\n",
    "N = int(input())\n",
    "\n",
    "if N % 2 == 0:\n",
    "    if 2 <= N <= 5:\n",
    "        print(\"Not Weird\")\n",
    "    elif 6 <= N <= 20:\n",
    "        print(\"Weird\")\n",
    "    else:\n",
    "        print(\"Not Weird\") \n",
    "else:\n",
    "    print(\"Weird\")"
   ]
  }
 ],
 "metadata": {
  "kernelspec": {
   "display_name": "Python 3",
   "language": "python",
   "name": "python3"
  },
  "language_info": {
   "codemirror_mode": {
    "name": "ipython",
    "version": 3
   },
   "file_extension": ".py",
   "mimetype": "text/x-python",
   "name": "python",
   "nbconvert_exporter": "python",
   "pygments_lexer": "ipython3",
   "version": "3.7.1"
  }
 },
 "nbformat": 4,
 "nbformat_minor": 2
}
