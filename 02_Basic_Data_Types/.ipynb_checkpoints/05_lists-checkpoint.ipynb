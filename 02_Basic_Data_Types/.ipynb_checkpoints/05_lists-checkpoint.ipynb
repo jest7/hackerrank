{
 "cells": [
  {
   "cell_type": "code",
   "execution_count": null,
   "metadata": {},
   "outputs": [],
   "source": [
    "# https://www.hackerrank.com/challenges/python-lists/problem\n",
    "\n",
    "# Consider a list (list = []). You can perform the following commands:\n",
    "\n",
    "# insert i e: Insert integer e at position i.\n",
    "# print: Print the list.\n",
    "# remove e: Delete the first occurrence of integer e.\n",
    "# append e: Insert integer e at the end of the list.\n",
    "# sort: Sort the list.\n",
    "# pop: Pop the last element from the list.\n",
    "# reverse: Reverse the list.\n",
    "# Initialize your list and read in the value of n followed by n lines of commands where each command will be of the 7 types listed above. Iterate through each command in order and perform the corresponding operation on your list.\n",
    "\n",
    "# Input Format\n",
    "\n",
    "# The first line contains an integer, n, denoting the number of commands. \n",
    "# Each line i of the n subsequent lines contains one of the commands described above.\n",
    "\n",
    "# Constraints\n",
    "\n",
    "# The elements added to the list must be integers.\n",
    "# Output Format\n",
    "\n",
    "# For each command of type print, print the list on a new line.\n",
    "\n",
    "# Sample Input 0\n",
    "\n",
    "# 12\n",
    "# insert 0 5\n",
    "# insert 1 10\n",
    "# insert 0 6\n",
    "# print\n",
    "# remove 6\n",
    "# append 9\n",
    "# append 1\n",
    "# sort\n",
    "# print\n",
    "# pop\n",
    "# reverse\n",
    "# print\n",
    "# Sample Output 0\n",
    "\n",
    "# [6, 5, 10]\n",
    "# [1, 5, 9, 10]\n",
    "# [9, 5, 1]"
   ]
  },
  {
   "cell_type": "code",
   "execution_count": 1,
   "metadata": {},
   "outputs": [
    {
     "name": "stdout",
     "output_type": "stream",
     "text": [
      "12\n",
      "insert 0 5\n",
      "insert 1 10\n",
      "insert 0 6\n",
      "print\n",
      "[6, 5, 10]\n",
      "remove 6\n",
      "append 9\n",
      "append 1\n",
      "sort\n",
      "print\n",
      "[1, 5, 9, 10]\n",
      "pop\n",
      "reverse\n",
      "print\n",
      "[9, 5, 1]\n"
     ]
    }
   ],
   "source": [
    "# In hindsight, this seems like a challenge that should have come up sooner\n",
    "# this challenge is just using the common list modifiers.  The question itself\n",
    "# seems poorly worded so I assume that we're actually being expected to parse\n",
    "# the input commands\n",
    "\n",
    "if __name__ == '__main__':\n",
    "    N = int(input())\n",
    "\n",
    "    running_cmd = []\n",
    "    for n in range(N):\n",
    "        command = input().strip().split(\" \") # 1\n",
    "        if command[0] == \"insert\":\n",
    "            running_cmd.insert(int(command[1]), int(command[2])) # 2\n",
    "        elif command[0] == \"print\":\n",
    "            print(running_cmd)\n",
    "        elif command[0] == \"remove\":\n",
    "            running_cmd.remove(int(command[1]))\n",
    "        elif command[0] == \"append\":\n",
    "            running_cmd.append(int(command[1]))\n",
    "        elif command[0] == \"sort\":\n",
    "            running_cmd.sort()\n",
    "        elif command[0] == \"pop\":\n",
    "            running_cmd.pop()\n",
    "        elif command[0] == \"reverse\":\n",
    "            running_cmd.reverse()\n",
    "\n",
    "# 1) strip() removes whitespace around elements, split(\" \") breaks up a string\n",
    "# into different elements based on the delimiter.  Running this here takes\n",
    "# the input command, splits it into a list based on the spaces, then cleans\n",
    "# the string\n",
    "# 2) int() is required to convert the second and third elements into intgers\n",
    "# currently they're strings because we used a string function but the input\n",
    "# for these commands expects ints"
   ]
  },
  {
   "cell_type": "code",
   "execution_count": null,
   "metadata": {},
   "outputs": [],
   "source": []
  },
  {
   "cell_type": "code",
   "execution_count": null,
   "metadata": {},
   "outputs": [],
   "source": []
  }
 ],
 "metadata": {
  "kernelspec": {
   "display_name": "Python 3",
   "language": "python",
   "name": "python3"
  },
  "language_info": {
   "codemirror_mode": {
    "name": "ipython",
    "version": 3
   },
   "file_extension": ".py",
   "mimetype": "text/x-python",
   "name": "python",
   "nbconvert_exporter": "python",
   "pygments_lexer": "ipython3",
   "version": "3.7.1"
  }
 },
 "nbformat": 4,
 "nbformat_minor": 2
}
