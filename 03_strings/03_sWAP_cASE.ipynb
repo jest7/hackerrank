{
 "cells": [
  {
   "cell_type": "code",
   "execution_count": null,
   "metadata": {},
   "outputs": [],
   "source": [
    "# https://www.hackerrank.com/challenges/swap-case/problem\n",
    "\n",
    "# You are given a string and your task is to swap cases. In other words, convert all lowercase letters to uppercase letters and vice versa.\n",
    "\n",
    "# For Example:\n",
    "\n",
    "# Www.HackerRank.com → wWW.hACKERrANK.COM\n",
    "# Pythonist 2 → pYTHONIST 2\n",
    "\n",
    "# Input Format\n",
    "\n",
    "# A single line containing a string S.\n",
    "\n",
    "# Constraints\n",
    "\n",
    "# 0 < len(S) <= 1000\n",
    "# Output Format\n",
    "\n",
    "# Print the modified string S.\n",
    "\n",
    "# Sample Input 0\n",
    "\n",
    "# HackerRank.com presents \"Pythonist 2\".\n",
    "# Sample Output 0\n",
    "\n",
    "# hACKERrANK.COM PRESENTS \"pYTHONIST 2\"."
   ]
  },
  {
   "cell_type": "code",
   "execution_count": 4,
   "metadata": {},
   "outputs": [
    {
     "name": "stdout",
     "output_type": "stream",
     "text": [
      "hACKERrANK.COM PRESENTS pYTHONIST 2.\n"
     ]
    }
   ],
   "source": [
    "input_string = \"HackerRank.com presents \"\"Pythonist 2\"\".\"\n",
    "\n",
    "# There's actually a prebuilt method for swapping case\n",
    "print(input_string.swapcase())"
   ]
  },
  {
   "cell_type": "code",
   "execution_count": 5,
   "metadata": {},
   "outputs": [
    {
     "name": "stdout",
     "output_type": "stream",
     "text": [
      "aB\n",
      "Ab\n"
     ]
    }
   ],
   "source": [
    "# Submission Code\n",
    "\n",
    "def swap_case(s):\n",
    "    output_string = s.swapcase()\n",
    "    return output_string\n",
    "\n",
    "if __name__ == '__main__':\n",
    "    s = input()\n",
    "    result = swap_case(s)\n",
    "    print(result)"
   ]
  },
  {
   "cell_type": "code",
   "execution_count": null,
   "metadata": {},
   "outputs": [],
   "source": []
  }
 ],
 "metadata": {
  "kernelspec": {
   "display_name": "Python 3",
   "language": "python",
   "name": "python3"
  },
  "language_info": {
   "codemirror_mode": {
    "name": "ipython",
    "version": 3
   },
   "file_extension": ".py",
   "mimetype": "text/x-python",
   "name": "python",
   "nbconvert_exporter": "python",
   "pygments_lexer": "ipython3",
   "version": "3.7.1"
  }
 },
 "nbformat": 4,
 "nbformat_minor": 2
}
