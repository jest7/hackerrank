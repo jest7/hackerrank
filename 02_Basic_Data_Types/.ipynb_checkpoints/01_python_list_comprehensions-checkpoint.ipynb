{
 "cells": [
  {
   "cell_type": "code",
   "execution_count": null,
   "metadata": {},
   "outputs": [],
   "source": [
    "# https://www.hackerrank.com/challenges/list-comprehensions/problem\n",
    "\n",
    "# Let's learn about list comprehensions! You are given three integers X, Y, and Z representing the dimensions of a cuboid along with an integer N. \\\n",
    "# You have to print a list of all possible coordinates given by (i,j,k) on a 3D grid where the sum of i+j+k is not equal to N. \n",
    "# Here, 0 <= i <= X; 0 <= j <= Y; 0 <= k <= Z\n",
    "\n",
    "# Input Format\n",
    "\n",
    "# Four integers X, Y, Z and N each on four separate lines, respectively.\n",
    "\n",
    "# Constraints\n",
    "\n",
    "# Print the list in lexicographic increasing order.\n",
    "\n",
    "# Sample Input 0\n",
    "\n",
    "# 1\n",
    "# 1\n",
    "# 1\n",
    "# 2\n",
    "# Sample Output 0\n",
    "\n",
    "# [[0, 0, 0], [0, 0, 1], [0, 1, 0], [1, 0, 0], [1, 1, 1]]\n",
    "# Explanation 0\n",
    "\n",
    "# Concept\n",
    "\n",
    "# You have already used lists in previous hacks. List comprehensions are an elegant way to build a list without having to use different for loops to append values one by one. This example might help.\n",
    "\n",
    "# Example: You are given two integers x and y . You need to find out the ordered pairs ( i , j ) , such that ( i + j ) is not equal to n and print them in lexicographic order.( 0 <= i <= x ) and ( 0 <= j <= y) This is the code if we dont use list comprehensions in Python.\n",
    "\n",
    "# python x = int ( raw_input()) y = int ( raw_input()) n = int ( raw_input()) ar = [] p = 0 for i in range ( x + 1 ) : for j in range( y + 1): if i+j != n: ar.append([]) ar[p] = [ i , j ] p+=1 print ar \n",
    "# Other smaller codes may also exist, but using list comprehensions is always a good option. Code using list comprehensions:\n",
    "\n",
    "# python x = int ( raw_input()) y = int ( raw_input()) n = int ( raw_input()) print [ [ i, j] for i in range( x + 1) for j in range( y + 1) if ( ( i + j ) != n )]\n",
    "\n",
    "# Sample Input 1\n",
    "\n",
    "# 2\n",
    "# 2\n",
    "# 2\n",
    "# 2\n",
    "# Sample Output 1\n",
    "\n",
    "# [[0, 0, 0], [0, 0, 1], [0, 1, 0], [0, 1, 2], [0, 2, 1], [0, 2, 2], [1, 0, 0], [1, 0, 2], [1, 1, 1], [1, 1, 2], [1, 2, 0], [1, 2, 1], [1, 2, 2], [2, 0, 1], [2, 0, 2], [2, 1, 0], [2, 1, 1], [2, 1, 2], [2, 2, 0], [2, 2, 1], [2, 2, 2]]\n"
   ]
  },
  {
   "cell_type": "code",
   "execution_count": 17,
   "metadata": {},
   "outputs": [
    {
     "name": "stdout",
     "output_type": "stream",
     "text": [
      "[[0]]\n",
      "[[0], [1]]\n",
      "[[0], [1]]\n"
     ]
    }
   ],
   "source": [
    "# Essentially, the plan is to build nested loops that will iterate over each\n",
    "# value.  I don't think this is the most efficient way but it's a start to\n",
    "# solving the problem.  Current logic below is constructing just one loop\n",
    "# statement for X.  This will append to a result list for every value where\n",
    "# x != n\n",
    "x = 2\n",
    "y = 2\n",
    "z = 2\n",
    "n = 2\n",
    "\n",
    "result_list = []\n",
    "for x in list(range(x+1)):\n",
    "    if x != n:\n",
    "        result_list.append([x])\n",
    "    print(result_list)\n",
    "# The expected output below makes sense for what we're doing here as the values\n",
    "# we iterate over are 0, 1, and 2 therefore the output should be [[0]], \n",
    "# [[0],[1]], and [[0],[1]] respectively.  Output of 1 and 2 are the same because\n",
    "# 2 fails x != n check"
   ]
  },
  {
   "cell_type": "code",
   "execution_count": 18,
   "metadata": {},
   "outputs": [
    {
     "name": "stdout",
     "output_type": "stream",
     "text": [
      "[[0, 0], [0, 1]]\n",
      "[[0, 0], [0, 1], [1, 0], [1, 2]]\n",
      "[[0, 0], [0, 1], [1, 0], [1, 2], [2, 1], [2, 2]]\n"
     ]
    }
   ],
   "source": [
    "# Here we add the second loop for y.  The core logic remains the same but just\n",
    "# the addition of a second loop.  The if statement is updated to x+y and we\n",
    "# append to the list the array of [x,y]\n",
    "x = 2\n",
    "y = 2\n",
    "z = 2\n",
    "n = 2\n",
    "\n",
    "result_list = []\n",
    "for x in list(range(x+1)):\n",
    "    for y in list(range(y+1)):\n",
    "        if x+y != n:\n",
    "            result_list.append([x,y])\n",
    "    print(result_list)\n",
    "# Output results are as expected.  Since y is the second loop, this value is\n",
    "# incremented before any of the x values.  The first pair of loops are 0,0; \n",
    "# followed by 0, 1 (since y increments).  Next value is 0,2 which is not appended\n",
    "# since o+2 doesn't satisfy != 2.  We return to the outer loop where the next\n",
    "# pair is 1,0 and this is appended.  Next is 1,1 which fails, then 1,2 which\n",
    "# succeeds. x is then incremented to 2.  2,0 fails to be appended but \n",
    "# 2,1 and 2,2 are good."
   ]
  },
  {
   "cell_type": "code",
   "execution_count": 21,
   "metadata": {},
   "outputs": [
    {
     "name": "stdout",
     "output_type": "stream",
     "text": [
      "[[0, 0, 0], [0, 0, 1], [0, 1, 0], [0, 1, 2], [0, 2, 1], [0, 2, 2]]\n",
      "[[0, 0, 0], [0, 0, 1], [0, 1, 0], [0, 1, 2], [0, 2, 1], [0, 2, 2], [1, 0, 0], [1, 0, 2], [1, 1, 1], [1, 1, 2], [1, 2, 0], [1, 2, 1], [1, 2, 2]]\n",
      "[[0, 0, 0], [0, 0, 1], [0, 1, 0], [0, 1, 2], [0, 2, 1], [0, 2, 2], [1, 0, 0], [1, 0, 2], [1, 1, 1], [1, 1, 2], [1, 2, 0], [1, 2, 1], [1, 2, 2], [2, 0, 1], [2, 0, 2], [2, 1, 0], [2, 1, 1], [2, 1, 2], [2, 2, 0], [2, 2, 1], [2, 2, 2]]\n"
     ]
    }
   ],
   "source": [
    "# Now we add the third criteria, Z\n",
    "x = 2\n",
    "y = 2\n",
    "z = 2\n",
    "n = 2\n",
    "\n",
    "result_list = []\n",
    "for x in list(range(x+1)):\n",
    "    for y in list(range(y+1)):\n",
    "        for z in list(range(z+1)):\n",
    "            if x+y+z != n:\n",
    "                result_list.append([x,y,z])\n",
    "    print(result_list)\n",
    "# The output here matches the output in Sample Output 1 from the prompt"
   ]
  },
  {
   "cell_type": "code",
   "execution_count": null,
   "metadata": {},
   "outputs": [],
   "source": [
    "# Submission Code\n",
    "# There's one modification to the submission code compared to the last block\n",
    "# and that's the placement of print(result_list).  In the previous blocks\n",
    "# the print statement was indented which made it print as part of the y loop,\n",
    "# shifting it back one makes it print for the x loop so we end up with more\n",
    "# of a clean output.\n",
    "\n",
    "\n",
    "if __name__ == '__main__':\n",
    "    x = int(input())\n",
    "    y = int(input())\n",
    "    z = int(input())\n",
    "    n = int(input())\n",
    "\n",
    "result_list = []\n",
    "for x in list(range(x+1)):\n",
    "    for y in list(range(y+1)):\n",
    "        for z in list(range(z+1)):\n",
    "            if x+y+z != n:\n",
    "                result_list.append([x,y,z])\n",
    "print(result_list)"
   ]
  }
 ],
 "metadata": {
  "kernelspec": {
   "display_name": "Python 3",
   "language": "python",
   "name": "python3"
  },
  "language_info": {
   "codemirror_mode": {
    "name": "ipython",
    "version": 3
   },
   "file_extension": ".py",
   "mimetype": "text/x-python",
   "name": "python",
   "nbconvert_exporter": "python",
   "pygments_lexer": "ipython3",
   "version": "3.7.1"
  }
 },
 "nbformat": 4,
 "nbformat_minor": 2
}
